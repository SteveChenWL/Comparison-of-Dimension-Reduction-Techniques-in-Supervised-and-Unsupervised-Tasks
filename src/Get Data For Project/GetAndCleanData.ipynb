{
 "cells": [
  {
   "cell_type": "markdown",
   "metadata": {},
   "source": [
    "### Get Book Title and Plot  "
   ]
  },
  {
   "cell_type": "code",
   "execution_count": 52,
   "metadata": {},
   "outputs": [],
   "source": [
    "from threading import Thread\n",
    "\n",
    "import pandas as pd\n",
    "import numpy as np\n",
    "import matplotlib.pyplot as plt\n",
    "import wikipediaapi\n",
    "import wptools\n",
    "\n",
    "from nltk.tokenize import word_tokenize\n",
    "from nltk.stem import WordNetLemmatizer \n",
    "from nltk.corpus import stopwords\n",
    "import string  \n",
    "\n",
    "import re\n",
    "import matplotlib.pyplot as plt\n",
    "import warnings\n",
    "warnings.filterwarnings('ignore')\n"
   ]
  },
  {
   "cell_type": "code",
   "execution_count": 2,
   "metadata": {},
   "outputs": [],
   "source": [
    "book = pd.read_csv('book.csv')\n",
    "book = book['name']"
   ]
  },
  {
   "cell_type": "code",
   "execution_count": 3,
   "metadata": {},
   "outputs": [],
   "source": [
    "wiki_wiki = wikipediaapi.Wikipedia('en')\n",
    "def get_plot(bookname, firstSection=True):\n",
    "    try:\n",
    "        if firstSection :\n",
    "            p = wiki_wiki.page(bookname)\n",
    "            sections = p.sections\n",
    "            s = sections[0]\n",
    "            return [s.title, s.text]\n",
    "        else:\n",
    "            p = wiki_wiki.page(bookname)\n",
    "            sections = p.sections\n",
    "            titles = []\n",
    "            texts = []\n",
    "            for s in sections:\n",
    "                titles.append(s.title)\n",
    "                texts.append(s.text)\n",
    "            return dict(zip(titles, texts))  \n",
    "    except:\n",
    "        pass\n",
    "\n",
    "def get_wiki(books, book_dict=None, firstSection=True):\n",
    "    if book_dict is None:\n",
    "        book_dict = {}\n",
    "    for i in books:\n",
    "        book_dict[i] = get_plot(i,firstSection)\n",
    "    return book_dict"
   ]
  },
  {
   "cell_type": "code",
   "execution_count": 4,
   "metadata": {},
   "outputs": [],
   "source": [
    "# thread process\n",
    "def threaded_process(books,nthreads, firstSection=True):\n",
    "    book_dict = {}\n",
    "    threads = []\n",
    "    for i in range(nthreads):\n",
    "        b = books[i::nthreads]\n",
    "        t = Thread(target = get_wiki, args =(b,book_dict,firstSection))\n",
    "        threads.append(t)\n",
    "    \n",
    "    # start the threads\n",
    "    [ t.start() for t in threads ]\n",
    "    # wait for the threads to finish\n",
    "    [ t.join() for t in threads ]\n",
    "    return book_dict"
   ]
  },
  {
   "cell_type": "code",
   "execution_count": 6,
   "metadata": {},
   "outputs": [
    {
     "name": "stdout",
     "output_type": "stream",
     "text": [
      "Currently, there are 35991 books in the list\n"
     ]
    }
   ],
   "source": [
    "print('Currently, there are %.0f books in the list' % (len(book)))"
   ]
  },
  {
   "cell_type": "code",
   "execution_count": 19,
   "metadata": {},
   "outputs": [],
   "source": [
    "data = threaded_process(book,100) "
   ]
  },
  {
   "cell_type": "code",
   "execution_count": 20,
   "metadata": {},
   "outputs": [
    {
     "data": {
      "text/html": [
       "<div>\n",
       "<style scoped>\n",
       "    .dataframe tbody tr th:only-of-type {\n",
       "        vertical-align: middle;\n",
       "    }\n",
       "\n",
       "    .dataframe tbody tr th {\n",
       "        vertical-align: top;\n",
       "    }\n",
       "\n",
       "    .dataframe thead th {\n",
       "        text-align: right;\n",
       "    }\n",
       "</style>\n",
       "<table border=\"1\" class=\"dataframe\">\n",
       "  <thead>\n",
       "    <tr style=\"text-align: right;\">\n",
       "      <th></th>\n",
       "      <th>0</th>\n",
       "      <th>1</th>\n",
       "    </tr>\n",
       "  </thead>\n",
       "  <tbody>\n",
       "    <tr>\n",
       "      <td>Future Perfect (book)</td>\n",
       "      <td>Key concepts</td>\n",
       "      <td>The main idea that Johnson promotes in Future ...</td>\n",
       "    </tr>\n",
       "    <tr>\n",
       "      <td>The Road (London book)</td>\n",
       "      <td>Film adaptation</td>\n",
       "      <td>The 1973 film Emperor of the North Pole, starr...</td>\n",
       "    </tr>\n",
       "    <tr>\n",
       "      <td>Encyclopedia of Art</td>\n",
       "      <td>Chapters</td>\n",
       "      <td>Introduction\\nGuide to Use\\n1. Main body, 2537...</td>\n",
       "    </tr>\n",
       "  </tbody>\n",
       "</table>\n",
       "</div>"
      ],
      "text/plain": [
       "                                      0  \\\n",
       "Future Perfect (book)      Key concepts   \n",
       "The Road (London book)  Film adaptation   \n",
       "Encyclopedia of Art            Chapters   \n",
       "\n",
       "                                                                        1  \n",
       "Future Perfect (book)   The main idea that Johnson promotes in Future ...  \n",
       "The Road (London book)  The 1973 film Emperor of the North Pole, starr...  \n",
       "Encyclopedia of Art     Introduction\\nGuide to Use\\n1. Main body, 2537...  "
      ]
     },
     "execution_count": 20,
     "metadata": {},
     "output_type": "execute_result"
    }
   ],
   "source": [
    "data = pd.DataFrame.from_dict(data).T\n",
    "\n",
    "data.head(3)"
   ]
  },
  {
   "cell_type": "code",
   "execution_count": 21,
   "metadata": {},
   "outputs": [],
   "source": [
    "data.columns = ['section', 'content']"
   ]
  },
  {
   "cell_type": "markdown",
   "metadata": {},
   "source": [
    "Check how many null values are included and remove them."
   ]
  },
  {
   "cell_type": "code",
   "execution_count": 22,
   "metadata": {},
   "outputs": [
    {
     "data": {
      "text/plain": [
       "section    16324\n",
       "content    16324\n",
       "dtype: int64"
      ]
     },
     "execution_count": 22,
     "metadata": {},
     "output_type": "execute_result"
    }
   ],
   "source": [
    "data.isnull().sum(axis=0)"
   ]
  },
  {
   "cell_type": "code",
   "execution_count": 23,
   "metadata": {},
   "outputs": [],
   "source": [
    "# remove invalid rows\n",
    "data = data.dropna(how='any')"
   ]
  },
  {
   "cell_type": "markdown",
   "metadata": {},
   "source": [
    "Now we need to determine if the first section is the plot."
   ]
  },
  {
   "cell_type": "code",
   "execution_count": 24,
   "metadata": {},
   "outputs": [
    {
     "data": {
      "text/plain": [
       "Plot summary               3579\n",
       "Plot                       2892\n",
       "Contents                   1321\n",
       "Synopsis                   1118\n",
       "References                  992\n",
       "Summary                     871\n",
       "Background                  836\n",
       "Plot introduction           718\n",
       "Reception                   465\n",
       "See also                    463\n",
       "Overview                    452\n",
       "External links              283\n",
       "Content                     242\n",
       "History                     191\n",
       "Characters                  176\n",
       "Description                 142\n",
       "Publication history         142\n",
       "Stories                     133\n",
       "Publication                  97\n",
       "Setting                      95\n",
       "Plot synopsis                95\n",
       "Notes                        86\n",
       "Reviews                      83\n",
       "Awards                       79\n",
       "Title                        76\n",
       "Editions                     73\n",
       "Story                        62\n",
       "Themes                       58\n",
       "Author                       57\n",
       "Critical reception           53\n",
       "Development                  52\n",
       "Structure                    51\n",
       "Context                      48\n",
       "Sources                      45\n",
       "Story outline                45\n",
       "Adaptations                  42\n",
       "Origins                      41\n",
       "Further reading              39\n",
       "Table of contents            38\n",
       "Plot outline                 34\n",
       "Introduction                 32\n",
       "Gameplay                     31\n",
       "Premise                      30\n",
       "Origin                       28\n",
       "Film adaptation              27\n",
       "Chapters                     26\n",
       "Background and synopsis      24\n",
       "Main characters              23\n",
       "Plot overview                23\n",
       "Authors                      22\n",
       "Name: section, dtype: int64"
      ]
     },
     "execution_count": 24,
     "metadata": {},
     "output_type": "execute_result"
    }
   ],
   "source": [
    "names = data['section'].unique()\n",
    "data.section.value_counts()[:50]"
   ]
  },
  {
   "cell_type": "markdown",
   "metadata": {},
   "source": [
    "We can categorize those sections into three types,\n",
    "- Type one, the first section is plot. For example, when the section title is Plot Summary, Synopsis. \n",
    "- Type two, the first section is background of a book, which implies the plot might follow it and be the second or third section of a wiki page, so we need to explore the whole wiki page instead of only the first section.\n",
    "- Type three, the plot is skipped, for example, when the first section title is References, Reception."
   ]
  },
  {
   "cell_type": "code",
   "execution_count": 25,
   "metadata": {},
   "outputs": [
    {
     "data": {
      "text/plain": [
       "0.5894137387501907"
      ]
     },
     "execution_count": 25,
     "metadata": {},
     "output_type": "execute_result"
    }
   ],
   "source": [
    "# Type one\n",
    "plots = ['Plot summary','Plot', 'Contents', 'Synopsis', 'Summary', 'Plot introduction',\\\n",
    "         'Overview', 'Content', 'Description', 'Plot synopsis ', 'Context', 'Plot outline', 'Story outline',\n",
    "         'Plot Summary', 'Chapters', 'Story', 'Book']\n",
    "\n",
    "len(data[data.section.isin(plots)])/len(data)\n"
   ]
  },
  {
   "cell_type": "markdown",
   "metadata": {},
   "source": [
    "The type one only accounts for 58.9% of the whole dataset. Let's convert it into a clean dataset."
   ]
  },
  {
   "cell_type": "code",
   "execution_count": 111,
   "metadata": {},
   "outputs": [],
   "source": [
    "df = data[data.section.isin(plots)].reset_index()\n",
    "df = df.drop('section', 1) \n",
    "df.columns = ['Title', 'Plot']"
   ]
  },
  {
   "cell_type": "markdown",
   "metadata": {},
   "source": [
    "Now, let's process books of type two."
   ]
  },
  {
   "cell_type": "code",
   "execution_count": 35,
   "metadata": {},
   "outputs": [
    {
     "name": "stdout",
     "output_type": "stream",
     "text": [
      "Books in type two account for 8% of the entire dataset\n"
     ]
    }
   ],
   "source": [
    "special = ['Background', 'History', 'Characters', 'Setting','Title', 'Development', \\\n",
    "           'Structure',  'Introduction', 'Inspiration']\n",
    "\n",
    "print('Books in type two account for %.0f%% of the entire dataset' % (100*len(data[data.section.isin(special)])/len(data)))"
   ]
  },
  {
   "cell_type": "markdown",
   "metadata": {},
   "source": [
    "Here we scrape the whole page of these books and get plot sections."
   ]
  },
  {
   "cell_type": "code",
   "execution_count": 106,
   "metadata": {},
   "outputs": [],
   "source": [
    "specialwiki = list(data[data.section.isin(special)].index)\n",
    "specialbook = threaded_process(specialwiki, 100, firstSection=False)\n",
    "specialbook =  pd.DataFrame(specialbook.items()) \n",
    "\n",
    "special_book_name = []\n",
    "special_book_plot = []\n",
    "for i in range(len(specialbook)):\n",
    "    if specialbook.iloc[i,1]:\n",
    "        for k,v in specialbook.iloc[i,1].items():\n",
    "            if k in plots and len(v)>0:\n",
    "                special_book_name.append(specialbook.iloc[i,0])\n",
    "                special_book_plot.append(v)\n",
    "                continue"
   ]
  },
  {
   "cell_type": "code",
   "execution_count": 107,
   "metadata": {},
   "outputs": [],
   "source": [
    "special_df= pd.DataFrame(\n",
    "    {'Title': special_book_name,\n",
    "     'Plot': special_book_plot,\n",
    "    }) "
   ]
  },
  {
   "cell_type": "code",
   "execution_count": 108,
   "metadata": {},
   "outputs": [
    {
     "data": {
      "text/plain": [
       "654"
      ]
     },
     "execution_count": 108,
     "metadata": {},
     "output_type": "execute_result"
    }
   ],
   "source": [
    "len(special_df)"
   ]
  },
  {
   "cell_type": "code",
   "execution_count": 112,
   "metadata": {},
   "outputs": [],
   "source": [
    "df = df.append(special_df).reset_index().drop('index',1)"
   ]
  },
  {
   "cell_type": "code",
   "execution_count": 114,
   "metadata": {},
   "outputs": [
    {
     "data": {
      "text/plain": [
       "12246"
      ]
     },
     "execution_count": 114,
     "metadata": {},
     "output_type": "execute_result"
    }
   ],
   "source": [
    "len(df)"
   ]
  },
  {
   "cell_type": "code",
   "execution_count": 115,
   "metadata": {},
   "outputs": [
    {
     "data": {
      "text/html": [
       "<div>\n",
       "<style scoped>\n",
       "    .dataframe tbody tr th:only-of-type {\n",
       "        vertical-align: middle;\n",
       "    }\n",
       "\n",
       "    .dataframe tbody tr th {\n",
       "        vertical-align: top;\n",
       "    }\n",
       "\n",
       "    .dataframe thead th {\n",
       "        text-align: right;\n",
       "    }\n",
       "</style>\n",
       "<table border=\"1\" class=\"dataframe\">\n",
       "  <thead>\n",
       "    <tr style=\"text-align: right;\">\n",
       "      <th></th>\n",
       "      <th>Title</th>\n",
       "      <th>Plot</th>\n",
       "    </tr>\n",
       "  </thead>\n",
       "  <tbody>\n",
       "    <tr>\n",
       "      <td>0</td>\n",
       "      <td>Encyclopedia of Art</td>\n",
       "      <td>Introduction\\nGuide to Use\\n1. Main body, 2537...</td>\n",
       "    </tr>\n",
       "    <tr>\n",
       "      <td>1</td>\n",
       "      <td>No Time Like the Present</td>\n",
       "      <td>The novel is set during the period after the l...</td>\n",
       "    </tr>\n",
       "    <tr>\n",
       "      <td>2</td>\n",
       "      <td>Time of the Dragon</td>\n",
       "      <td>Time of the Dragon is an accessory for the Dra...</td>\n",
       "    </tr>\n",
       "    <tr>\n",
       "      <td>3</td>\n",
       "      <td>Hero Builder's Guidebook</td>\n",
       "      <td>Hero Builder's Guidebook provides assistance t...</td>\n",
       "    </tr>\n",
       "    <tr>\n",
       "      <td>4</td>\n",
       "      <td>Brother Dusty-Feet</td>\n",
       "      <td>Hugh Copplestone is an orphaned eleven-year-ol...</td>\n",
       "    </tr>\n",
       "  </tbody>\n",
       "</table>\n",
       "</div>"
      ],
      "text/plain": [
       "                      Title                                               Plot\n",
       "0       Encyclopedia of Art  Introduction\\nGuide to Use\\n1. Main body, 2537...\n",
       "1  No Time Like the Present  The novel is set during the period after the l...\n",
       "2        Time of the Dragon  Time of the Dragon is an accessory for the Dra...\n",
       "3  Hero Builder's Guidebook  Hero Builder's Guidebook provides assistance t...\n",
       "4        Brother Dusty-Feet  Hugh Copplestone is an orphaned eleven-year-ol..."
      ]
     },
     "execution_count": 115,
     "metadata": {},
     "output_type": "execute_result"
    }
   ],
   "source": [
    "df.head(5)"
   ]
  },
  {
   "cell_type": "markdown",
   "metadata": {},
   "source": [
    "Now we get a very clean dataset containing 12246 wiki pages."
   ]
  },
  {
   "cell_type": "code",
   "execution_count": 120,
   "metadata": {},
   "outputs": [],
   "source": [
    "df = df.dropna(axis=0, subset=['Plot'])"
   ]
  },
  {
   "cell_type": "code",
   "execution_count": 121,
   "metadata": {},
   "outputs": [],
   "source": [
    "df.to_csv('plot.csv', index=False)"
   ]
  },
  {
   "cell_type": "code",
   "execution_count": null,
   "metadata": {},
   "outputs": [],
   "source": [
    "## get infobox, do this later\n",
    "import wptools\n",
    "for i in range(1):\n",
    "    try:\n",
    "        parse = wptools.page(books[i]).get_parse()\n",
    "        infobox = parse.data.get('infobox', None)\n",
    "        if infobox:\n",
    "            author.append(infobox.get('author', None))\n",
    "            country.append(infobox.get('country', None))\n",
    "            language.append(infobox.get('language', None))\n",
    "            genre.append(infobox.get('genre', None))\n",
    "        else:\n",
    "            author.append(None)\n",
    "            country.append(None)\n",
    "            language.append(None)\n",
    "            genre.append(None)\n",
    "            \n",
    "    except:\n",
    "        pass"
   ]
  },
  {
   "cell_type": "markdown",
   "metadata": {},
   "source": [
    "### Clean Data"
   ]
  },
  {
   "cell_type": "markdown",
   "metadata": {},
   "source": [
    "#### Cleaning Book Names\n",
    "Some books have (novel) or (book) after the name."
   ]
  },
  {
   "cell_type": "code",
   "execution_count": 3,
   "metadata": {},
   "outputs": [],
   "source": [
    "df = pd.read_csv('plot.csv',index_col=False)"
   ]
  },
  {
   "cell_type": "code",
   "execution_count": 4,
   "metadata": {},
   "outputs": [],
   "source": [
    "for i in range(len(df)):\n",
    "    if '(' in df['Title'][i]:\n",
    "        df['Title'][i] = re.sub(r'\\(.*?\\)', '', df['Title'][i]).strip()"
   ]
  },
  {
   "cell_type": "markdown",
   "metadata": {},
   "source": [
    "#### Dealing With the Plot Length Distribution"
   ]
  },
  {
   "cell_type": "code",
   "execution_count": 5,
   "metadata": {},
   "outputs": [
    {
     "data": {
      "image/png": "[encoded data removed]",
      "text/plain": [
       "<Figure size 432x288 with 1 Axes>"
      ]
     },
     "metadata": {
      "needs_background": "light"
     },
     "output_type": "display_data"
    }
   ],
   "source": [
    "df['length'] = df.Plot.apply(lambda i:len(i.split(' ')))\n",
    "\n",
    "plt.hist(df['length'])\n",
    "plt.title('Number of Pages by Plot Length')\n",
    "plt.xlabel(\"Plot Lengths (by charaters)\")\n",
    "plt.ylabel(\"Number of Pages\")\n",
    "plt.show()"
   ]
  },
  {
   "cell_type": "code",
   "execution_count": 6,
   "metadata": {},
   "outputs": [
    {
     "name": "stdout",
     "output_type": "stream",
     "text": [
      "There are 0.36% of plots with more than 2000 characters.\n",
      "There are 9.07% of plots with less than 40 characters.\n"
     ]
    }
   ],
   "source": [
    "print('There are %.2f%% of plots with more than 2000 characters.' % (100*len(df[df.length>=2000])/len(df)))\n",
    "print('There are %.2f%% of plots with less than 40 characters.' % (100*len(df[df.length<=40])/len(df)))"
   ]
  },
  {
   "cell_type": "markdown",
   "metadata": {},
   "source": [
    "Obviously we do not need the plots with too few words. LDA is not going to assign meaningful topics when the only words to derive topics. So we are going to remove outliers and plots with too few or too many words."
   ]
  },
  {
   "cell_type": "code",
   "execution_count": 7,
   "metadata": {},
   "outputs": [
    {
     "data": {
      "image/png": "[encoded data removed]",
      "text/plain": [
       "<Figure size 432x288 with 1 Axes>"
      ]
     },
     "metadata": {
      "needs_background": "light"
     },
     "output_type": "display_data"
    }
   ],
   "source": [
    "df = df[(df.length<=2000) & (df.length>=40)].reset_index().drop('index',axis=1)\n",
    "\n",
    "plt.hist(np.log(df['length']))\n",
    "plt.title('Number of Pages by Log(Plot Length)')\n",
    "plt.xlabel(\"Log(Plot Lengths (by charaters))\")\n",
    "plt.ylabel(\"Number of Pages\")\n",
    "plt.show()"
   ]
  },
  {
   "cell_type": "code",
   "execution_count": 8,
   "metadata": {},
   "outputs": [
    {
     "name": "stdout",
     "output_type": "stream",
     "text": [
      "Now we have 10751 book pages.\n"
     ]
    }
   ],
   "source": [
    "print('Now we have %.0f book pages.' % len(df))"
   ]
  },
  {
   "cell_type": "code",
   "execution_count": 63,
   "metadata": {},
   "outputs": [],
   "source": [
    "df = df.drop('length',axis=1)"
   ]
  },
  {
   "cell_type": "markdown",
   "metadata": {},
   "source": [
    "#### Text Cleanup\n",
    "\n",
    "Before we switch over to the tokenized articles, we should switch all articles to one line bodies, remove real expression references, remove those parts of the text that are used to distinguish between parts of an article, remove possessives, remove websites, and finally reduce all spaces in the articles to single spaces such that post cleaning we'll have a readable body."
   ]
  },
  {
   "cell_type": "code",
   "execution_count": 10,
   "metadata": {},
   "outputs": [],
   "source": [
    "def text_one_liner(book_data):\n",
    "    for x in range(len(book_data)):\n",
    "        book_data.loc[x,'Plot'] = book_data.loc[x,'Plot'].replace('\\n', '')\n",
    "    return book_data\n",
    "\n",
    "df_clean = text_one_liner(df)"
   ]
  },
  {
   "cell_type": "code",
   "execution_count": 11,
   "metadata": {},
   "outputs": [],
   "source": [
    "def real_exp_remover(book_data):\n",
    "    for x in range(len(book_data)):\n",
    "        book_data.loc[x,'Plot'] = re.sub(r'\\(.*?\\)', '', book_data.loc[x,'Plot'])\n",
    "        book_data.loc[x,'Plot'] = re.sub(r'\\<.*?\\>', '', book_data.loc[x,'Plot'])\n",
    "        book_data.loc[x,'Plot'] = re.sub(r'\\[.*?\\]', '', book_data.loc[x,'Plot'])\n",
    "        book_data.loc[x,'Plot'] = re.sub(r'\\==.*?\\==', '', book_data.loc[x,'Plot'])\n",
    "    return book_data\n",
    "\n",
    "df_clean = real_exp_remover(df_clean)"
   ]
  },
  {
   "cell_type": "code",
   "execution_count": 14,
   "metadata": {},
   "outputs": [],
   "source": [
    "def possessive_fixer(book_data):\n",
    "    for x in range(len(book_data)):\n",
    "        book_data.loc[x,'Plot'] = book_data.loc[x,'Plot'].replace(\"\\'\", \"\")\n",
    "    return book_data\n",
    "\n",
    "df_clean = possessive_fixer(df_clean)"
   ]
  },
  {
   "cell_type": "code",
   "execution_count": 15,
   "metadata": {},
   "outputs": [],
   "source": [
    "def website_remover(book_data):\n",
    "    for x in range(len(book_data)):\n",
    "        websites = []\n",
    "        for word in book_data.loc[x,'Plot'].split(' '):\n",
    "            if word[:4] == 'http':\n",
    "                websites.append(word)\n",
    "        \n",
    "        for website in websites:\n",
    "            book_data.loc[x,'Plot'] = book_data.loc[x,'Plot'].replace(website, '')\n",
    "    return book_data\n",
    "\n",
    "df_clean = website_remover(df_clean)"
   ]
  },
  {
   "cell_type": "code",
   "execution_count": 17,
   "metadata": {},
   "outputs": [],
   "source": [
    "def space_reducer(book_data):\n",
    "    for x in range(len(book_data)):\n",
    "        for i in range(10, 0, -1): #Loop backwards to assure that smaller spaces aren't made by larger deletions and then missed\n",
    "            large_space = str(i*' ')\n",
    "            if large_space in book_data.loc[x,'Plot']:\n",
    "                book_data.loc[x,'Plot'] = book_data.loc[x,'Plot'].replace(large_space, ' ')\n",
    "    return book_data\n",
    "\n",
    "df_clean = website_remover(df_clean)"
   ]
  },
  {
   "cell_type": "code",
   "execution_count": 55,
   "metadata": {},
   "outputs": [],
   "source": [
    "# tokenization, remove punctuation, normalize case, remove stop words\n",
    "stop_words = set(stopwords.words('english'))\n",
    "def punctuation_stopWords_remover_lemma(book_data):\n",
    "    res = []\n",
    "    for x in range(len(book_data)):\n",
    "        tokens = word_tokenize(book_data.loc[x,'Plot'])\n",
    "        table = str.maketrans('', '', string.punctuation)\n",
    "        words = [w.translate(table).lower() for w in tokens if w.isalpha()]\n",
    "        words = [lemmatizer.lemmatize(w) for w in words if not w in stop_words]\n",
    "        res.append(words)\n",
    "    return res\n",
    "\n",
    "tokens = punctuation_stopWords_remover(df_clean)\n",
    "df_clean['tokens'] = tokens"
   ]
  },
  {
   "cell_type": "code",
   "execution_count": 57,
   "metadata": {},
   "outputs": [
    {
     "data": {
      "text/html": [
       "<div>\n",
       "<style scoped>\n",
       "    .dataframe tbody tr th:only-of-type {\n",
       "        vertical-align: middle;\n",
       "    }\n",
       "\n",
       "    .dataframe tbody tr th {\n",
       "        vertical-align: top;\n",
       "    }\n",
       "\n",
       "    .dataframe thead th {\n",
       "        text-align: right;\n",
       "    }\n",
       "</style>\n",
       "<table border=\"1\" class=\"dataframe\">\n",
       "  <thead>\n",
       "    <tr style=\"text-align: right;\">\n",
       "      <th></th>\n",
       "      <th>Title</th>\n",
       "      <th>Plot</th>\n",
       "      <th>length</th>\n",
       "      <th>tokens</th>\n",
       "    </tr>\n",
       "  </thead>\n",
       "  <tbody>\n",
       "    <tr>\n",
       "      <td>0</td>\n",
       "      <td>No Time Like the Present</td>\n",
       "      <td>The novel is set during the period after the l...</td>\n",
       "      <td>118</td>\n",
       "      <td>[novel, set, period, lifting, apartheid, steph...</td>\n",
       "    </tr>\n",
       "    <tr>\n",
       "      <td>1</td>\n",
       "      <td>Time of the Dragon</td>\n",
       "      <td>Time of the Dragon is an accessory for the Dra...</td>\n",
       "      <td>575</td>\n",
       "      <td>[time, dragon, accessory, dragonlance, campaig...</td>\n",
       "    </tr>\n",
       "    <tr>\n",
       "      <td>2</td>\n",
       "      <td>Brother Dusty-Feet</td>\n",
       "      <td>Hugh Copplestone is an orphaned eleven-year-ol...</td>\n",
       "      <td>547</td>\n",
       "      <td>[hugh, copplestone, orphaned, boy, living, aun...</td>\n",
       "    </tr>\n",
       "    <tr>\n",
       "      <td>3</td>\n",
       "      <td>The Rose in Splendour: a Story of the Wars of ...</td>\n",
       "      <td>The novel is set in England over a period of e...</td>\n",
       "      <td>62</td>\n",
       "      <td>[novel, set, england, period, eighteen, months...</td>\n",
       "    </tr>\n",
       "    <tr>\n",
       "      <td>4</td>\n",
       "      <td>The Alleys of Eden</td>\n",
       "      <td>Set in Saigon during the final days of the Vie...</td>\n",
       "      <td>171</td>\n",
       "      <td>[set, saigon, final, days, vietnam, war, build...</td>\n",
       "    </tr>\n",
       "  </tbody>\n",
       "</table>\n",
       "</div>"
      ],
      "text/plain": [
       "                                               Title  \\\n",
       "0                           No Time Like the Present   \n",
       "1                                 Time of the Dragon   \n",
       "2                                 Brother Dusty-Feet   \n",
       "3  The Rose in Splendour: a Story of the Wars of ...   \n",
       "4                                 The Alleys of Eden   \n",
       "\n",
       "                                                Plot  length  \\\n",
       "0  The novel is set during the period after the l...     118   \n",
       "1  Time of the Dragon is an accessory for the Dra...     575   \n",
       "2  Hugh Copplestone is an orphaned eleven-year-ol...     547   \n",
       "3  The novel is set in England over a period of e...      62   \n",
       "4  Set in Saigon during the final days of the Vie...     171   \n",
       "\n",
       "                                              tokens  \n",
       "0  [novel, set, period, lifting, apartheid, steph...  \n",
       "1  [time, dragon, accessory, dragonlance, campaig...  \n",
       "2  [hugh, copplestone, orphaned, boy, living, aun...  \n",
       "3  [novel, set, england, period, eighteen, months...  \n",
       "4  [set, saigon, final, days, vietnam, war, build...  "
      ]
     },
     "execution_count": 57,
     "metadata": {},
     "output_type": "execute_result"
    }
   ],
   "source": [
    "df_clean.head()"
   ]
  },
  {
   "cell_type": "code",
   "execution_count": 71,
   "metadata": {},
   "outputs": [],
   "source": [
    "df_clean.to_csv('clean_data.csv',index=False)"
   ]
  },
  {
   "cell_type": "markdown",
   "metadata": {},
   "source": [
    "### Data Exploration"
   ]
  },
  {
   "cell_type": "code",
   "execution_count": 73,
   "metadata": {},
   "outputs": [],
   "source": [
    "## custom function for ngram generation ##\n",
    "def generate_ngrams(token, n_gram=1):\n",
    "    ngrams = zip(*[token[i:] for i in range(n_gram)])\n",
    "    return [\" \".join(ngram) for ngram in ngrams]"
   ]
  },
  {
   "cell_type": "code",
   "execution_count": 82,
   "metadata": {},
   "outputs": [],
   "source": [
    "### One Word\n",
    "from collections import defaultdict\n",
    "\n",
    "def plot_frequent_words(n_gram):\n",
    "    freq_dict = defaultdict(int)\n",
    "\n",
    "    for q in df['tokens']:\n",
    "        for word in generate_ngrams(q,n_gram):\n",
    "            freq_dict[word] += 1\n",
    "\n",
    "    plot_sorted = pd.DataFrame(sorted(freq_dict.items(), key=lambda x:x[1], reverse=True))[0:20]\n",
    "    plot_sorted.columns = [\"word\", \"wordcount\"]\n",
    "\n",
    "    plt.barh(plot_sorted.word[::-1], plot_sorted.wordcount[::-1])\n",
    "    plt.title('Frequent Words -'+str(n_gram)+' Word')"
   ]
  },
  {
   "cell_type": "code",
   "execution_count": 83,
   "metadata": {},
   "outputs": [
    {
     "data": {
      "image/png": "[encoded data removed]",
      "text/plain": [
       "<Figure size 432x288 with 1 Axes>"
      ]
     },
     "metadata": {
      "needs_background": "light"
     },
     "output_type": "display_data"
    }
   ],
   "source": [
    "plot_frequent_words(1)"
   ]
  },
  {
   "cell_type": "code",
   "execution_count": 84,
   "metadata": {},
   "outputs": [
    {
     "data": {
      "image/png": "[encoded data removed]",
      "text/plain": [
       "<Figure size 432x288 with 1 Axes>"
      ]
     },
     "metadata": {
      "needs_background": "light"
     },
     "output_type": "display_data"
    }
   ],
   "source": [
    "plot_frequent_words(2)"
   ]
  },
  {
   "cell_type": "code",
   "execution_count": 85,
   "metadata": {},
   "outputs": [
    {
     "data": {
      "image/png": "[encoded data removed]",
      "text/plain": [
       "<Figure size 432x288 with 1 Axes>"
      ]
     },
     "metadata": {
      "needs_background": "light"
     },
     "output_type": "display_data"
    }
   ],
   "source": [
    "plot_frequent_words(3)"
   ]
  },
  {
   "cell_type": "code",
   "execution_count": null,
   "metadata": {},
   "outputs": [],
   "source": []
  }
 ],
 "metadata": {
  "kernelspec": {
   "display_name": "Python 3",
   "language": "python",
   "name": "python3"
  },
  "language_info": {
   "codemirror_mode": {
    "name": "ipython",
    "version": 3
   },
   "file_extension": ".py",
   "mimetype": "text/x-python",
   "name": "python",
   "nbconvert_exporter": "python",
   "pygments_lexer": "ipython3",
   "version": "3.7.4"
  }
 },
 "nbformat": 4,
 "nbformat_minor": 2
}
