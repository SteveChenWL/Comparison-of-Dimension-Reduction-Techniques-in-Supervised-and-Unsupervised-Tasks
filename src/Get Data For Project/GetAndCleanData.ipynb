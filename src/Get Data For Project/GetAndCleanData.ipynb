{
 "cells": [
  {
   "cell_type": "markdown",
   "metadata": {},
   "source": [
    "### Get Book Title and Plot  "
   ]
  },
  {
   "cell_type": "code",
   "execution_count": 1,
   "metadata": {},
   "outputs": [],
   "source": [
    "from threading import Thread\n",
    "\n",
    "import pandas as pd\n",
    "import numpy as np\n",
    "import matplotlib.pyplot as plt\n",
    "import wikipediaapi\n",
    "import wptools\n",
    "\n",
    "from nltk.tokenize import word_tokenize\n",
    "from nltk.stem import WordNetLemmatizer \n",
    "from nltk.corpus import stopwords\n",
    "import string  \n",
    "\n",
    "import re\n",
    "import matplotlib.pyplot as plt\n",
    "import warnings\n",
    "warnings.filterwarnings('ignore')\n"
   ]
  },
  {
   "cell_type": "code",
   "execution_count": 2,
   "metadata": {},
   "outputs": [],
   "source": [
    "book = pd.read_csv('book_names.csv')\n",
    "book = book['name']"
   ]
  },
  {
   "cell_type": "code",
   "execution_count": 3,
   "metadata": {},
   "outputs": [],
   "source": [
    "wiki_wiki = wikipediaapi.Wikipedia('en')\n",
    "def get_plot(bookname, firstSection=True):\n",
    "    try:\n",
    "        if firstSection :\n",
    "            p = wiki_wiki.page(bookname)\n",
    "            sections = p.sections\n",
    "            s = sections[0]\n",
    "            return [s.title, s.text]\n",
    "        else:\n",
    "            p = wiki_wiki.page(bookname)\n",
    "            sections = p.sections\n",
    "            titles = []\n",
    "            texts = []\n",
    "            for s in sections:\n",
    "                titles.append(s.title)\n",
    "                texts.append(s.text)\n",
    "            return dict(zip(titles, texts))  \n",
    "    except:\n",
    "        pass\n",
    "\n",
    "def get_wiki(books, book_dict=None, firstSection=True):\n",
    "    if book_dict is None:\n",
    "        book_dict = {}\n",
    "    for i in books:\n",
    "        book_dict[i] = get_plot(i,firstSection)\n",
    "    return book_dict"
   ]
  },
  {
   "cell_type": "code",
   "execution_count": 4,
   "metadata": {},
   "outputs": [],
   "source": [
    "# thread process\n",
    "def threaded_process(books,nthreads, firstSection=True):\n",
    "    book_dict = {}\n",
    "    threads = []\n",
    "    for i in range(nthreads):\n",
    "        b = books[i::nthreads]\n",
    "        t = Thread(target = get_wiki, args =(b,book_dict,firstSection))\n",
    "        threads.append(t)\n",
    "    \n",
    "    # start the threads\n",
    "    [ t.start() for t in threads ]\n",
    "    # wait for the threads to finish\n",
    "    [ t.join() for t in threads ]\n",
    "    return book_dict"
   ]
  },
  {
   "cell_type": "code",
   "execution_count": 5,
   "metadata": {},
   "outputs": [
    {
     "name": "stdout",
     "output_type": "stream",
     "text": [
      "Currently, there are 35991 books in the list.\n"
     ]
    }
   ],
   "source": [
    "print('Currently, there are %.0f books in the list.' % (len(book)))"
   ]
  },
  {
   "cell_type": "code",
   "execution_count": 6,
   "metadata": {},
   "outputs": [
    {
     "data": {
      "text/html": [
       "<div>\n",
       "<style scoped>\n",
       "    .dataframe tbody tr th:only-of-type {\n",
       "        vertical-align: middle;\n",
       "    }\n",
       "\n",
       "    .dataframe tbody tr th {\n",
       "        vertical-align: top;\n",
       "    }\n",
       "\n",
       "    .dataframe thead th {\n",
       "        text-align: right;\n",
       "    }\n",
       "</style>\n",
       "<table border=\"1\" class=\"dataframe\">\n",
       "  <thead>\n",
       "    <tr style=\"text-align: right;\">\n",
       "      <th></th>\n",
       "      <th>section</th>\n",
       "      <th>content</th>\n",
       "    </tr>\n",
       "  </thead>\n",
       "  <tbody>\n",
       "    <tr>\n",
       "      <td>Mary Beaumont (author)</td>\n",
       "      <td>Life</td>\n",
       "      <td>Beaumont was from Halifax in Yorkshire, Englan...</td>\n",
       "    </tr>\n",
       "    <tr>\n",
       "      <td>The Nameless One (novel)</td>\n",
       "      <td>Books</td>\n",
       "      <td></td>\n",
       "    </tr>\n",
       "    <tr>\n",
       "      <td>India's Most Attractive Brands</td>\n",
       "      <td>None</td>\n",
       "      <td>None</td>\n",
       "    </tr>\n",
       "  </tbody>\n",
       "</table>\n",
       "</div>"
      ],
      "text/plain": [
       "                               section  \\\n",
       "Mary Beaumont (author)            Life   \n",
       "The Nameless One (novel)         Books   \n",
       "India's Most Attractive Brands    None   \n",
       "\n",
       "                                                                          content  \n",
       "Mary Beaumont (author)          Beaumont was from Halifax in Yorkshire, Englan...  \n",
       "The Nameless One (novel)                                                           \n",
       "India's Most Attractive Brands                                               None  "
      ]
     },
     "execution_count": 6,
     "metadata": {},
     "output_type": "execute_result"
    }
   ],
   "source": [
    "bookdf = threaded_process(book,100) \n",
    "bookdf = pd.DataFrame.from_dict(bookdf).T\n",
    "bookdf.columns = ['section', 'content']\n",
    "bookdf.head(3)"
   ]
  },
  {
   "cell_type": "markdown",
   "metadata": {},
   "source": [
    "Check how many books that we didn't get their wiki page successfully, and try to scrape the page again."
   ]
  },
  {
   "cell_type": "code",
   "execution_count": 7,
   "metadata": {},
   "outputs": [
    {
     "data": {
      "text/plain": [
       "section    20602\n",
       "content    20602\n",
       "dtype: int64"
      ]
     },
     "execution_count": 7,
     "metadata": {},
     "output_type": "execute_result"
    }
   ],
   "source": [
    "bookdf.isnull().sum(axis=0)"
   ]
  },
  {
   "cell_type": "markdown",
   "metadata": {},
   "source": [
    "Now let's give it another try to scrape those missing wiki pages."
   ]
  },
  {
   "cell_type": "code",
   "execution_count": 8,
   "metadata": {},
   "outputs": [
    {
     "name": "stdout",
     "output_type": "stream",
     "text": [
      "We currently have 9928 missing records in total.\n",
      "We currently have 6463 missing records in total.\n",
      "We currently have 4780 missing records in total.\n",
      "We currently have 3703 missing records in total.\n",
      "We currently have 3042 missing records in total.\n",
      "We currently have 2952 missing records in total.\n"
     ]
    }
   ],
   "source": [
    "k = bookdf.isnull().sum(axis=0)[0]\n",
    "data = bookdf.dropna(how='any')\n",
    "while k > 3000:\n",
    "    invalid = list(bookdf[bookdf[\"content\"].isnull()].index)\n",
    "    bookdf = threaded_process(invalid,20) \n",
    "    bookdf = pd.DataFrame.from_dict(bookdf).T\n",
    "    bookdf.columns = ['section', 'content']\n",
    "    k = bookdf.isnull().sum(axis=0)[0]\n",
    "    print('We currently have %.0f missing records in total.' % k)\n",
    "    \n",
    "    data = data.append(bookdf.dropna(how='any'))"
   ]
  },
  {
   "cell_type": "code",
   "execution_count": 14,
   "metadata": {},
   "outputs": [],
   "source": [
    "data, bookdf = temp1, temp2"
   ]
  },
  {
   "cell_type": "code",
   "execution_count": 39,
   "metadata": {},
   "outputs": [
    {
     "data": {
      "text/plain": [
       "2793"
      ]
     },
     "execution_count": 39,
     "metadata": {},
     "output_type": "execute_result"
    }
   ],
   "source": [
    "data2 = get_wiki(list(bookdf.index))\n",
    "data2 = pd.DataFrame.from_dict(data2).T\n",
    "data2.columns = ['section', 'content']\n",
    "data2.isnull().sum(axis=0)[0]"
   ]
  },
  {
   "cell_type": "code",
   "execution_count": 40,
   "metadata": {},
   "outputs": [],
   "source": [
    "data = data.append(data2.dropna(how='any'))\n",
    "data = data.drop_duplicates() "
   ]
  },
  {
   "cell_type": "code",
   "execution_count": 44,
   "metadata": {},
   "outputs": [
    {
     "name": "stdout",
     "output_type": "stream",
     "text": [
      "There are 35991 books.\n",
      "30399 books are available.\n",
      "There are 5592 missing records.\n"
     ]
    }
   ],
   "source": [
    "print('There are %.0f books.' %len(book))\n",
    "print('%.0f books are available.' %len(data))\n",
    "print('There are %.0f missing records.' %(len(book)-len(data)))"
   ]
  },
  {
   "cell_type": "markdown",
   "metadata": {},
   "source": [
    "### Determine if the first section is the plot and do further exploration"
   ]
  },
  {
   "cell_type": "code",
   "execution_count": 45,
   "metadata": {},
   "outputs": [
    {
     "data": {
      "text/plain": [
       "Plot summary           5977\n",
       "Plot                   4677\n",
       "Contents               2193\n",
       "Synopsis               1734\n",
       "Background             1412\n",
       "Summary                1387\n",
       "Plot introduction      1211\n",
       "Reception               770\n",
       "Overview                755\n",
       "See also                658\n",
       "External links          470\n",
       "Content                 380\n",
       "References              326\n",
       "History                 324\n",
       "Characters              260\n",
       "Publication history     222\n",
       "Description             218\n",
       "Publication             166\n",
       "Plot synopsis           162\n",
       "Setting                 154\n",
       "Stories                 142\n",
       "Reviews                 136\n",
       "Awards                  129\n",
       "Title                   126\n",
       "Editions                112\n",
       "Story                    97\n",
       "Critical reception       97\n",
       "Themes                   91\n",
       "Author                   77\n",
       "Structure                76\n",
       "Development              71\n",
       "Origins                  71\n",
       "Context                  69\n",
       "Story outline            69\n",
       "Adaptations              63\n",
       "Premise                  58\n",
       "Plot outline             58\n",
       "Introduction             55\n",
       "Film adaptation          54\n",
       "Sources                  51\n",
       "Table of contents        49\n",
       "Origin                   44\n",
       "Plot Summary             42\n",
       "Plot overview            39\n",
       "Chapters                 38\n",
       "Main characters          37\n",
       "Bibliography             36\n",
       "Book                     34\n",
       "Inspiration              34\n",
       "Authors                  31\n",
       "Name: section, dtype: int64"
      ]
     },
     "execution_count": 45,
     "metadata": {},
     "output_type": "execute_result"
    }
   ],
   "source": [
    "names = data['section'].unique()\n",
    "data.section.value_counts()[:50]"
   ]
  },
  {
   "cell_type": "markdown",
   "metadata": {},
   "source": [
    "We can categorize those sections into three types,\n",
    "- Type one, the first section is plot. For example, when the section title is Plot Summary, Synopsis. \n",
    "- Type two, the first section is background of a book, which implies the plot might follow it and be the second or third section of a wiki page, so we need to explore the whole wiki page instead of only the first section.\n",
    "- Type three, the plot is skipped, for example, when the first section title is References, Reception.\n",
    "\n",
    "###### Type One"
   ]
  },
  {
   "cell_type": "code",
   "execution_count": 47,
   "metadata": {},
   "outputs": [
    {
     "name": "stdout",
     "output_type": "stream",
     "text": [
      "Type one account for 62.90 % of the entire dataset.\n"
     ]
    }
   ],
   "source": [
    "# Type one\n",
    "plots = ['Plot summary','Plot', 'Contents', 'Synopsis', 'Summary', 'Plot introduction',\\\n",
    "         'Overview', 'Content', 'Description', 'Plot synopsis ', 'Stories', 'Context', 'Plot outline', \\\n",
    "         'Story outline', 'Plot Summary', 'Plot overview','Chapters', 'Story', 'Book']\n",
    "\n",
    "print('Type one account for %.2f %% of the entire dataset.' % (100*len(data[data.section.isin(plots)])/len(data)))\n"
   ]
  },
  {
   "cell_type": "markdown",
   "metadata": {},
   "source": [
    "Let's save this part into a clean dataset."
   ]
  },
  {
   "cell_type": "code",
   "execution_count": 48,
   "metadata": {},
   "outputs": [],
   "source": [
    "df = data[data.section.isin(plots)].reset_index()\n",
    "df = df.drop('section', 1) \n",
    "df.columns = ['Title', 'Plot']"
   ]
  },
  {
   "cell_type": "markdown",
   "metadata": {},
   "source": [
    "##### Type Two"
   ]
  },
  {
   "cell_type": "code",
   "execution_count": 49,
   "metadata": {},
   "outputs": [
    {
     "name": "stdout",
     "output_type": "stream",
     "text": [
      "Books in type two account for 8% of the entire dataset\n"
     ]
    }
   ],
   "source": [
    "special = ['Background', 'History', 'Characters', 'Setting','Title', 'Development', \\\n",
    "           'Structure',  'Introduction', 'Inspiration']\n",
    "\n",
    "print('Books in type two account for %.0f%% of the entire dataset' % (100*len(data[data.section.isin(special)])/len(data)))"
   ]
  },
  {
   "cell_type": "markdown",
   "metadata": {},
   "source": [
    "Here we scrape the whole page of these books and get plot sections."
   ]
  },
  {
   "cell_type": "code",
   "execution_count": 51,
   "metadata": {},
   "outputs": [],
   "source": [
    "specialwiki = list(data[data.section.isin(special)].index)\n",
    "specialbook = threaded_process(specialwiki, 100, firstSection=False)\n",
    "specialbook =  pd.DataFrame(specialbook.items()) \n",
    "\n",
    "special_book_name = []\n",
    "special_book_plot = []\n",
    "for i in range(len(specialbook)):\n",
    "    if specialbook.iloc[i,1]:\n",
    "        for k,v in specialbook.iloc[i,1].items():\n",
    "            if k in plots and len(v)>0:\n",
    "                special_book_name.append(specialbook.iloc[i,0])\n",
    "                special_book_plot.append(v)\n",
    "                continue"
   ]
  },
  {
   "cell_type": "code",
   "execution_count": 52,
   "metadata": {},
   "outputs": [],
   "source": [
    "special_df= pd.DataFrame(\n",
    "    {'Title': special_book_name,\n",
    "     'Plot': special_book_plot,\n",
    "    }) "
   ]
  },
  {
   "cell_type": "code",
   "execution_count": 53,
   "metadata": {},
   "outputs": [
    {
     "data": {
      "text/plain": [
       "960"
      ]
     },
     "execution_count": 53,
     "metadata": {},
     "output_type": "execute_result"
    }
   ],
   "source": [
    "len(special_df)"
   ]
  },
  {
   "cell_type": "code",
   "execution_count": 54,
   "metadata": {},
   "outputs": [],
   "source": [
    "df = df.append(special_df).reset_index().drop('index',1)"
   ]
  },
  {
   "cell_type": "code",
   "execution_count": 57,
   "metadata": {},
   "outputs": [
    {
     "name": "stdout",
     "output_type": "stream",
     "text": [
      "Among 35991 books, only 20080 books have plot in its wiki pages, they account for 55.79 %.\n"
     ]
    }
   ],
   "source": [
    "print('Among %.0f books, only %.0f books have plot in its wiki pages, they account for %.2f %%.' % \\\n",
    "      (len(book),len(df),100*len(df)/len(book)))"
   ]
  },
  {
   "cell_type": "code",
   "execution_count": 58,
   "metadata": {},
   "outputs": [
    {
     "data": {
      "text/html": [
       "<div>\n",
       "<style scoped>\n",
       "    .dataframe tbody tr th:only-of-type {\n",
       "        vertical-align: middle;\n",
       "    }\n",
       "\n",
       "    .dataframe tbody tr th {\n",
       "        vertical-align: top;\n",
       "    }\n",
       "\n",
       "    .dataframe thead th {\n",
       "        text-align: right;\n",
       "    }\n",
       "</style>\n",
       "<table border=\"1\" class=\"dataframe\">\n",
       "  <thead>\n",
       "    <tr style=\"text-align: right;\">\n",
       "      <th></th>\n",
       "      <th>Title</th>\n",
       "      <th>Plot</th>\n",
       "    </tr>\n",
       "  </thead>\n",
       "  <tbody>\n",
       "    <tr>\n",
       "      <td>0</td>\n",
       "      <td>The Day of the Pelican</td>\n",
       "      <td>The story follows a fictional family named the...</td>\n",
       "    </tr>\n",
       "    <tr>\n",
       "      <td>1</td>\n",
       "      <td>The Lost World of British Communism</td>\n",
       "      <td>The book is composed of a series of essays tha...</td>\n",
       "    </tr>\n",
       "    <tr>\n",
       "      <td>2</td>\n",
       "      <td>Village of Secrets</td>\n",
       "      <td>The book is a narrative regarding the role of ...</td>\n",
       "    </tr>\n",
       "    <tr>\n",
       "      <td>3</td>\n",
       "      <td>Gods Without Men</td>\n",
       "      <td>Although there are many other settings, both g...</td>\n",
       "    </tr>\n",
       "    <tr>\n",
       "      <td>4</td>\n",
       "      <td>The Women of the Cousins' War</td>\n",
       "      <td>The book consists of an introduction by Gregor...</td>\n",
       "    </tr>\n",
       "  </tbody>\n",
       "</table>\n",
       "</div>"
      ],
      "text/plain": [
       "                                 Title  \\\n",
       "0               The Day of the Pelican   \n",
       "1  The Lost World of British Communism   \n",
       "2                   Village of Secrets   \n",
       "3                     Gods Without Men   \n",
       "4        The Women of the Cousins' War   \n",
       "\n",
       "                                                Plot  \n",
       "0  The story follows a fictional family named the...  \n",
       "1  The book is composed of a series of essays tha...  \n",
       "2  The book is a narrative regarding the role of ...  \n",
       "3  Although there are many other settings, both g...  \n",
       "4  The book consists of an introduction by Gregor...  "
      ]
     },
     "execution_count": 58,
     "metadata": {},
     "output_type": "execute_result"
    }
   ],
   "source": [
    "df.head(5)"
   ]
  },
  {
   "cell_type": "code",
   "execution_count": 59,
   "metadata": {},
   "outputs": [],
   "source": [
    "df.to_csv('plot.csv', index=False)"
   ]
  },
  {
   "cell_type": "markdown",
   "metadata": {},
   "source": [
    "If we want to get the infobox of a wiki page, run the code below. The infobox includes author, language, country, genre, etc."
   ]
  },
  {
   "cell_type": "code",
   "execution_count": null,
   "metadata": {},
   "outputs": [],
   "source": [
    "## get infobox, do this later\n",
    "import wptools\n",
    "for i in range(1):\n",
    "    try:\n",
    "        parse = wptools.page(books[i]).get_parse()\n",
    "        infobox = parse.data.get('infobox', None)\n",
    "        if infobox:\n",
    "            author.append(infobox.get('author', None))\n",
    "            country.append(infobox.get('country', None))\n",
    "            language.append(infobox.get('language', None))\n",
    "            genre.append(infobox.get('genre', None))\n",
    "        else:\n",
    "            author.append(None)\n",
    "            country.append(None)\n",
    "            language.append(None)\n",
    "            genre.append(None)\n",
    "            \n",
    "    except:\n",
    "        pass"
   ]
  },
  {
   "cell_type": "markdown",
   "metadata": {},
   "source": [
    "### Clean Data"
   ]
  },
  {
   "cell_type": "markdown",
   "metadata": {},
   "source": [
    "#### Cleaning Book Names\n",
    "Some books have (novel) or (book) after the name."
   ]
  },
  {
   "cell_type": "code",
   "execution_count": 3,
   "metadata": {},
   "outputs": [],
   "source": [
    "df = pd.read_csv('plot.csv',index_col=False)"
   ]
  },
  {
   "cell_type": "code",
   "execution_count": 60,
   "metadata": {},
   "outputs": [],
   "source": [
    "for i in range(len(df)):\n",
    "    if '(' in df['Title'][i]:\n",
    "        df['Title'][i] = re.sub(r'\\(.*?\\)', '', df['Title'][i]).strip()"
   ]
  },
  {
   "cell_type": "markdown",
   "metadata": {},
   "source": [
    "#### Dealing With the Plot Length Distribution"
   ]
  },
  {
   "cell_type": "code",
   "execution_count": 61,
   "metadata": {},
   "outputs": [
    {
     "data": {
      "image/png": "[encoded data removed]",
      "text/plain": [
       "<Figure size 432x288 with 1 Axes>"
      ]
     },
     "metadata": {
      "needs_background": "light"
     },
     "output_type": "display_data"
    }
   ],
   "source": [
    "df['length'] = df.Plot.apply(lambda i:len(i.split(' ')))\n",
    "\n",
    "plt.hist(df['length'])\n",
    "plt.title('Number of Pages by Plot Length')\n",
    "plt.xlabel(\"Plot Lengths (by charaters)\")\n",
    "plt.ylabel(\"Number of Pages\")\n",
    "plt.show()"
   ]
  },
  {
   "cell_type": "code",
   "execution_count": 62,
   "metadata": {},
   "outputs": [
    {
     "name": "stdout",
     "output_type": "stream",
     "text": [
      "There are 0.39% of plots with more than 2000 characters.\n",
      "There are 9.41% of plots with less than 40 characters.\n"
     ]
    }
   ],
   "source": [
    "print('There are %.2f%% of plots with more than 2000 characters.' % (100*len(df[df.length>=2000])/len(df)))\n",
    "print('There are %.2f%% of plots with less than 40 characters.' % (100*len(df[df.length<=40])/len(df)))"
   ]
  },
  {
   "cell_type": "markdown",
   "metadata": {},
   "source": [
    "Obviously we do not need the plots with too few words. LDA is not going to assign meaningful topics when the only words to derive topics. So we are going to remove outliers and plots with too few or too many words."
   ]
  },
  {
   "cell_type": "code",
   "execution_count": 63,
   "metadata": {},
   "outputs": [
    {
     "data": {
      "image/png": "[encoded data removed]",
      "text/plain": [
       "<Figure size 432x288 with 1 Axes>"
      ]
     },
     "metadata": {
      "needs_background": "light"
     },
     "output_type": "display_data"
    }
   ],
   "source": [
    "df = df[(df.length<=2000) & (df.length>=40)].reset_index().drop('index',axis=1)\n",
    "\n",
    "plt.hist(np.log(df['length']))\n",
    "plt.title('Number of Pages by Log(Plot Length)')\n",
    "plt.xlabel(\"Log(Plot Lengths (by charaters))\")\n",
    "plt.ylabel(\"Number of Pages\")\n",
    "plt.show()"
   ]
  },
  {
   "cell_type": "code",
   "execution_count": 64,
   "metadata": {},
   "outputs": [
    {
     "name": "stdout",
     "output_type": "stream",
     "text": [
      "Now we have 18177 book pages.\n"
     ]
    }
   ],
   "source": [
    "print('Now we have %.0f book pages.' % len(df))"
   ]
  },
  {
   "cell_type": "code",
   "execution_count": 65,
   "metadata": {},
   "outputs": [],
   "source": [
    "df = df.drop('length',axis=1)"
   ]
  },
  {
   "cell_type": "markdown",
   "metadata": {},
   "source": [
    "#### Text Cleanup\n",
    "\n",
    "Before we switch over to the tokenized articles, we should switch all articles to one line bodies, remove real expression references, remove those parts of the text that are used to distinguish between parts of an article, remove possessives, remove websites, and finally reduce all spaces in the articles to single spaces such that post cleaning we'll have a readable body."
   ]
  },
  {
   "cell_type": "code",
   "execution_count": 66,
   "metadata": {},
   "outputs": [],
   "source": [
    "def text_one_liner(book_data):\n",
    "    for x in range(len(book_data)):\n",
    "        book_data.loc[x,'Plot'] = book_data.loc[x,'Plot'].replace('\\n', '')\n",
    "    return book_data\n",
    "\n",
    "df_clean = text_one_liner(df)"
   ]
  },
  {
   "cell_type": "code",
   "execution_count": 67,
   "metadata": {},
   "outputs": [],
   "source": [
    "def real_exp_remover(book_data):\n",
    "    for x in range(len(book_data)):\n",
    "        book_data.loc[x,'Plot'] = re.sub(r'\\(.*?\\)', '', book_data.loc[x,'Plot'])\n",
    "        book_data.loc[x,'Plot'] = re.sub(r'\\<.*?\\>', '', book_data.loc[x,'Plot'])\n",
    "        book_data.loc[x,'Plot'] = re.sub(r'\\[.*?\\]', '', book_data.loc[x,'Plot'])\n",
    "        book_data.loc[x,'Plot'] = re.sub(r'\\==.*?\\==', '', book_data.loc[x,'Plot'])\n",
    "    return book_data\n",
    "\n",
    "df_clean = real_exp_remover(df_clean)"
   ]
  },
  {
   "cell_type": "code",
   "execution_count": 68,
   "metadata": {},
   "outputs": [],
   "source": [
    "def possessive_fixer(book_data):\n",
    "    for x in range(len(book_data)):\n",
    "        book_data.loc[x,'Plot'] = book_data.loc[x,'Plot'].replace(\"\\'\", \"\")\n",
    "    return book_data\n",
    "\n",
    "df_clean = possessive_fixer(df_clean)"
   ]
  },
  {
   "cell_type": "code",
   "execution_count": 69,
   "metadata": {},
   "outputs": [],
   "source": [
    "def website_remover(book_data):\n",
    "    for x in range(len(book_data)):\n",
    "        websites = []\n",
    "        for word in book_data.loc[x,'Plot'].split(' '):\n",
    "            if word[:4] == 'http':\n",
    "                websites.append(word)\n",
    "        \n",
    "        for website in websites:\n",
    "            book_data.loc[x,'Plot'] = book_data.loc[x,'Plot'].replace(website, '')\n",
    "    return book_data\n",
    "\n",
    "df_clean = website_remover(df_clean)"
   ]
  },
  {
   "cell_type": "code",
   "execution_count": 70,
   "metadata": {},
   "outputs": [],
   "source": [
    "def space_reducer(book_data):\n",
    "    for x in range(len(book_data)):\n",
    "        for i in range(10, 0, -1): #Loop backwards to assure that smaller spaces aren't made by larger deletions and then missed\n",
    "            large_space = str(i*' ')\n",
    "            if large_space in book_data.loc[x,'Plot']:\n",
    "                book_data.loc[x,'Plot'] = book_data.loc[x,'Plot'].replace(large_space, ' ')\n",
    "    return book_data\n",
    "\n",
    "df_clean = website_remover(df_clean)"
   ]
  },
  {
   "cell_type": "code",
   "execution_count": 73,
   "metadata": {},
   "outputs": [],
   "source": [
    "# tokenization, remove punctuation, normalize case, remove stop words\n",
    "stop_words = set(stopwords.words('english'))\n",
    "lemmatizer = WordNetLemmatizer() \n",
    "def punctuation_stopWords_remover_lemma(book_data):\n",
    "    res = []\n",
    "    for x in range(len(book_data)):\n",
    "        tokens = word_tokenize(book_data.loc[x,'Plot'])\n",
    "        table = str.maketrans('', '', string.punctuation)\n",
    "        words = [w.translate(table).lower() for w in tokens if w.isalpha()]\n",
    "        words = [lemmatizer.lemmatize(w) for w in words if not w in stop_words]\n",
    "        res.append(words)\n",
    "    return res\n",
    "\n",
    "tokens = punctuation_stopWords_remover_lemma(df_clean)\n",
    "df_clean['tokens'] = tokens"
   ]
  },
  {
   "cell_type": "code",
   "execution_count": 74,
   "metadata": {},
   "outputs": [
    {
     "data": {
      "text/html": [
       "<div>\n",
       "<style scoped>\n",
       "    .dataframe tbody tr th:only-of-type {\n",
       "        vertical-align: middle;\n",
       "    }\n",
       "\n",
       "    .dataframe tbody tr th {\n",
       "        vertical-align: top;\n",
       "    }\n",
       "\n",
       "    .dataframe thead th {\n",
       "        text-align: right;\n",
       "    }\n",
       "</style>\n",
       "<table border=\"1\" class=\"dataframe\">\n",
       "  <thead>\n",
       "    <tr style=\"text-align: right;\">\n",
       "      <th></th>\n",
       "      <th>Title</th>\n",
       "      <th>Plot</th>\n",
       "      <th>tokens</th>\n",
       "    </tr>\n",
       "  </thead>\n",
       "  <tbody>\n",
       "    <tr>\n",
       "      <td>0</td>\n",
       "      <td>The Day of the Pelican</td>\n",
       "      <td>The story follows a fictional family named the...</td>\n",
       "      <td>[story, follows, fictional, family, named, lle...</td>\n",
       "    </tr>\n",
       "    <tr>\n",
       "      <td>1</td>\n",
       "      <td>The Lost World of British Communism</td>\n",
       "      <td>The book is composed of a series of essays tha...</td>\n",
       "      <td>[book, composed, series, essay, collected, tog...</td>\n",
       "    </tr>\n",
       "    <tr>\n",
       "      <td>2</td>\n",
       "      <td>Village of Secrets</td>\n",
       "      <td>The book is a narrative regarding the role of ...</td>\n",
       "      <td>[book, narrative, regarding, role, resident, f...</td>\n",
       "    </tr>\n",
       "    <tr>\n",
       "      <td>3</td>\n",
       "      <td>Gods Without Men</td>\n",
       "      <td>Although there are many other settings, both g...</td>\n",
       "      <td>[although, many, setting, geographically, temp...</td>\n",
       "    </tr>\n",
       "    <tr>\n",
       "      <td>4</td>\n",
       "      <td>The Women of the Cousins' War</td>\n",
       "      <td>The book consists of an introduction by Gregor...</td>\n",
       "      <td>[book, consists, introduction, gregory, three,...</td>\n",
       "    </tr>\n",
       "  </tbody>\n",
       "</table>\n",
       "</div>"
      ],
      "text/plain": [
       "                                 Title  \\\n",
       "0               The Day of the Pelican   \n",
       "1  The Lost World of British Communism   \n",
       "2                   Village of Secrets   \n",
       "3                     Gods Without Men   \n",
       "4        The Women of the Cousins' War   \n",
       "\n",
       "                                                Plot  \\\n",
       "0  The story follows a fictional family named the...   \n",
       "1  The book is composed of a series of essays tha...   \n",
       "2  The book is a narrative regarding the role of ...   \n",
       "3  Although there are many other settings, both g...   \n",
       "4  The book consists of an introduction by Gregor...   \n",
       "\n",
       "                                              tokens  \n",
       "0  [story, follows, fictional, family, named, lle...  \n",
       "1  [book, composed, series, essay, collected, tog...  \n",
       "2  [book, narrative, regarding, role, resident, f...  \n",
       "3  [although, many, setting, geographically, temp...  \n",
       "4  [book, consists, introduction, gregory, three,...  "
      ]
     },
     "execution_count": 74,
     "metadata": {},
     "output_type": "execute_result"
    }
   ],
   "source": [
    "df_clean.head()"
   ]
  },
  {
   "cell_type": "code",
   "execution_count": 75,
   "metadata": {},
   "outputs": [],
   "source": [
    "df_clean.to_csv('clean_data.csv',index=False)"
   ]
  },
  {
   "cell_type": "markdown",
   "metadata": {},
   "source": [
    "### Data Exploration"
   ]
  },
  {
   "cell_type": "code",
   "execution_count": 76,
   "metadata": {},
   "outputs": [],
   "source": [
    "## custom function for ngram generation ##\n",
    "def generate_ngrams(token, n_gram=1):\n",
    "    ngrams = zip(*[token[i:] for i in range(n_gram)])\n",
    "    return [\" \".join(ngram) for ngram in ngrams]"
   ]
  },
  {
   "cell_type": "code",
   "execution_count": 77,
   "metadata": {},
   "outputs": [],
   "source": [
    "### One Word\n",
    "from collections import defaultdict\n",
    "\n",
    "def plot_frequent_words(n_gram):\n",
    "    freq_dict = defaultdict(int)\n",
    "\n",
    "    for q in df['tokens']:\n",
    "        for word in generate_ngrams(q,n_gram):\n",
    "            freq_dict[word] += 1\n",
    "\n",
    "    plot_sorted = pd.DataFrame(sorted(freq_dict.items(), key=lambda x:x[1], reverse=True))[0:20]\n",
    "    plot_sorted.columns = [\"word\", \"wordcount\"]\n",
    "\n",
    "    plt.barh(plot_sorted.word[::-1], plot_sorted.wordcount[::-1])\n",
    "    plt.title('Frequent Words -'+str(n_gram)+' Word')"
   ]
  },
  {
   "cell_type": "code",
   "execution_count": 78,
   "metadata": {},
   "outputs": [
    {
     "data": {
      "image/png": "[encoded data removed]",
      "text/plain": [
       "<Figure size 432x288 with 1 Axes>"
      ]
     },
     "metadata": {
      "needs_background": "light"
     },
     "output_type": "display_data"
    }
   ],
   "source": [
    "plot_frequent_words(1)"
   ]
  },
  {
   "cell_type": "code",
   "execution_count": 79,
   "metadata": {},
   "outputs": [
    {
     "data": {
      "image/png": "[encoded data removed]",
      "text/plain": [
       "<Figure size 432x288 with 1 Axes>"
      ]
     },
     "metadata": {
      "needs_background": "light"
     },
     "output_type": "display_data"
    }
   ],
   "source": [
    "plot_frequent_words(2)"
   ]
  },
  {
   "cell_type": "code",
   "execution_count": 80,
   "metadata": {},
   "outputs": [
    {
     "data": {
      "image/png": "[encoded data removed]",
      "text/plain": [
       "<Figure size 432x288 with 1 Axes>"
      ]
     },
     "metadata": {
      "needs_background": "light"
     },
     "output_type": "display_data"
    }
   ],
   "source": [
    "plot_frequent_words(3)"
   ]
  }
 ],
 "metadata": {
  "kernelspec": {
   "display_name": "Python 3",
   "language": "python",
   "name": "python3"
  },
  "language_info": {
   "codemirror_mode": {
    "name": "ipython",
    "version": 3
   },
   "file_extension": ".py",
   "mimetype": "text/x-python",
   "name": "python",
   "nbconvert_exporter": "python",
   "pygments_lexer": "ipython3",
   "version": "3.7.4"
  }
 },
 "nbformat": 4,
 "nbformat_minor": 2
}
