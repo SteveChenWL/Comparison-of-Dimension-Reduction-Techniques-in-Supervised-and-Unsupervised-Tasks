{
 "cells": [
  {
   "cell_type": "code",
   "execution_count": null,
   "metadata": {},
   "outputs": [],
   "source": [
    "import pandas as pd \n",
    "import matplotlib.pyplot as plt \n",
    "import string\n",
    "import re\n",
    "\n",
    "# sklearn\n",
    "from sklearn.cluster import SpectralClustering \n",
    "from sklearn.preprocessing import StandardScaler, normalize \n",
    "from sklearn.decomposition import PCA \n",
    "from sklearn.metrics import silhouette_score\n",
    "from sklearn.feature_extraction.text import CountVectorizer,TfidfVectorizer\n",
    "from sklearn.neighbors import radius_neighbors_graph\n",
    "from sklearn.neighbors import kneighbors_graph\n",
    "\n",
    "# nltk\n",
    "import nltk\n",
    "from nltk.corpus import stopwords\n",
    "from nltk.stem import WordNetLemmatizer \n",
    "\n",
    "#nltk.download('words')"
   ]
  },
  {
   "cell_type": "code",
   "execution_count": null,
   "metadata": {},
   "outputs": [],
   "source": [
    "# load data and clean it\n",
    "df = pd.read_csv('Data/clean_data.csv')\n",
    "df.head(10)"
   ]
  },
  {
   "cell_type": "code",
   "execution_count": null,
   "metadata": {},
   "outputs": [],
   "source": [
    "def cleanData(data):\n",
    "    # remove non-english words\n",
    "    words = set(nltk.corpus.words.words())\n",
    "    \n",
    "    # remove stop-words and punctuation\n",
    "    stop_words = set(stopwords.words('english'))\n",
    "    punctuation = set(list(string.punctuation) + ['…', '...','’','''''',])\n",
    "\n",
    "    data = \" \".join(w.lower() for w in nltk.wordpunct_tokenize(data)\n",
    "                   if w.lower() in words or not w.isalpha())\n",
    "    \n",
    "    # remove special signals\n",
    "    data = re.sub('#', '',data)\n",
    "    data = re.sub(r'[-\\.\\n]', '',data)\n",
    "    data = re.sub(r'&\\w+;','',data)\n",
    "    data = re.sub('&', '',data)\n",
    "    data = re.sub('\"', '',data)\n",
    "    data = re.sub(',', '',data)\n",
    "    \n",
    "    #looping through conditions\n",
    "    lemmatizer = WordNetLemmatizer()\n",
    "    word_tokens = word_tokenize(data)\n",
    "    filtered_data=[]\n",
    "    \n",
    "    for w in word_tokens:\n",
    "    #check tokens against stop words , punctuations and w.isalpha() w not in stop_words\n",
    "        if w in words and w not in punctuation and w not in stop_words:\n",
    "            w = lemmatizer.lemmatize(w)\n",
    "            filtered_data.append(w)\n",
    "    return ' '.join(filtered_data)\n",
    "    \n",
    "\n",
    "\n",
    "df['Cleaned_Plot'] = df['Plot'].apply(lambda data: cleanData(data))\n"
   ]
  },
  {
   "cell_type": "code",
   "execution_count": null,
   "metadata": {},
   "outputs": [],
   "source": [
    "#df.rename(columns={'Plot':'Cleaned_Plot'},inplace=True)\n",
    "df1 = df[['Title','Cleaned_Plot']]\n",
    "df1.to_csv('clean_data_v2.csv')"
   ]
  }
 ],
 "metadata": {
  "kernelspec": {
   "display_name": "Python 3",
   "language": "python",
   "name": "python3"
  },
  "language_info": {
   "codemirror_mode": {
    "name": "ipython",
    "version": 3
   },
   "file_extension": ".py",
   "mimetype": "text/x-python",
   "name": "python",
   "nbconvert_exporter": "python",
   "pygments_lexer": "ipython3",
   "version": "3.7.4"
  }
 },
 "nbformat": 4,
 "nbformat_minor": 2
}
