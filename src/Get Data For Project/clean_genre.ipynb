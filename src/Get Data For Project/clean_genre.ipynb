{
 "cells": [
  {
   "cell_type": "code",
   "execution_count": 20,
   "metadata": {},
   "outputs": [],
   "source": [
    "import pandas as pd\n",
    "import numpy as np\n",
    "import matplotlib.pyplot as plt"
   ]
  },
  {
   "cell_type": "code",
   "execution_count": 3,
   "metadata": {},
   "outputs": [],
   "source": [
    "df = pd.read_csv('genre.csv', header=0, index_col=None)"
   ]
  },
  {
   "cell_type": "code",
   "execution_count": 4,
   "metadata": {},
   "outputs": [
    {
     "data": {
      "text/html": [
       "<div>\n",
       "<style scoped>\n",
       "    .dataframe tbody tr th:only-of-type {\n",
       "        vertical-align: middle;\n",
       "    }\n",
       "\n",
       "    .dataframe tbody tr th {\n",
       "        vertical-align: top;\n",
       "    }\n",
       "\n",
       "    .dataframe thead th {\n",
       "        text-align: right;\n",
       "    }\n",
       "</style>\n",
       "<table border=\"1\" class=\"dataframe\">\n",
       "  <thead>\n",
       "    <tr style=\"text-align: right;\">\n",
       "      <th></th>\n",
       "      <th>Title</th>\n",
       "      <th>Genre</th>\n",
       "    </tr>\n",
       "  </thead>\n",
       "  <tbody>\n",
       "    <tr>\n",
       "      <td>0</td>\n",
       "      <td>Ratha and Thistle-chaser</td>\n",
       "      <td>[[Adventure fiction|Adventure]], [[Fantasy]]</td>\n",
       "    </tr>\n",
       "    <tr>\n",
       "      <td>1</td>\n",
       "      <td>Macdonald Hall Goes Hollywood</td>\n",
       "      <td>[[Adventure (genre)|Adventure]]</td>\n",
       "    </tr>\n",
       "    <tr>\n",
       "      <td>2</td>\n",
       "      <td>Beware the Fish</td>\n",
       "      <td>[[Adventure (genre)|Adventure]]</td>\n",
       "    </tr>\n",
       "    <tr>\n",
       "      <td>3</td>\n",
       "      <td>Son of Interflux</td>\n",
       "      <td>[[Adventure (genre)|Adventure]]</td>\n",
       "    </tr>\n",
       "    <tr>\n",
       "      <td>4</td>\n",
       "      <td>The War with Mr. Wizzle</td>\n",
       "      <td>[[Adventure (genre)|Adventure]]</td>\n",
       "    </tr>\n",
       "  </tbody>\n",
       "</table>\n",
       "</div>"
      ],
      "text/plain": [
       "                           Title                                         Genre\n",
       "0       Ratha and Thistle-chaser  [[Adventure fiction|Adventure]], [[Fantasy]]\n",
       "1  Macdonald Hall Goes Hollywood               [[Adventure (genre)|Adventure]]\n",
       "2                Beware the Fish               [[Adventure (genre)|Adventure]]\n",
       "3               Son of Interflux               [[Adventure (genre)|Adventure]]\n",
       "4        The War with Mr. Wizzle               [[Adventure (genre)|Adventure]]"
      ]
     },
     "execution_count": 4,
     "metadata": {},
     "output_type": "execute_result"
    }
   ],
   "source": [
    "df.head()"
   ]
  },
  {
   "cell_type": "code",
   "execution_count": 51,
   "metadata": {},
   "outputs": [],
   "source": [
    "df['fantasy'] = df.Genre.apply(lambda x: 1 if 'fantasy' in x.lower() or 'sword and planet' in x.lower() else 0)\n",
    "df['science'] = df.Genre.apply(lambda x: 1 if 'science fiction' in x.lower() else 0)\n",
    "df['horror'] = df.Genre.apply(lambda x: 1 if 'horror' in x.lower() else 0)\n",
    "df['western'] = df.Genre.apply(lambda x: 1 if 'western' in x.lower() else 0)\n",
    "df['thriller'] = df.Genre.apply(lambda x: 1 if 'thriller' in x.lower() or 'spy' in x.lower() else 0)\n",
    "df['mystery'] = df.Genre.apply(lambda x: 1 if 'mystery' in x.lower() else 0)\n",
    "df['detective'] = df.Genre.apply(lambda x: 1 if 'detective' in x.lower() or 'crime' in x.lower() else 0)\n",
    "df['dystopia'] = df.Genre.apply(lambda x: 1 if 'dystopia' in x.lower() else 0)\n",
    "df['adventure'] = df.Genre.apply(lambda x: 1 if 'adventure' in x.lower() else 0)\n",
    "\n",
    "\n",
    "df['history'] = df.Genre.apply(lambda x: 1 if 'histor' in x.lower() else 0)\n",
    "df['philosophy'] = df.Genre.apply(lambda x: 1 if 'philosoph' in x.lower() else 0)\n",
    "df['biography'] = df.Genre.apply(lambda x: 1 if 'memoir' in x.lower() or 'biography' in x.lower() else 0)\n",
    "df['young'] = df.Genre.apply(lambda x: 1 if 'juvenile' in x.lower() or 'young' in x.lower() else 0)\n",
    "df['picture'] = df.Genre.apply(lambda x: 1 if 'picture book' in x.lower() or 'comic' in x.lower() else 0)\n",
    "df['children'] = df.Genre.apply(lambda x: 1 if 'children' in x.lower() else 0)\n",
    "df['role-playing'] = df.Genre.apply(lambda x: 1 if 'role-playing' in x.lower() else 0)\n",
    "df['comedy'] = df.Genre.apply(lambda x: 1 if 'comedy' in x.lower() else 0)\n",
    "df['political'] = df.Genre.apply(lambda x: 1 if 'politic' in x.lower() else 0)\n"
   ]
  },
  {
   "cell_type": "code",
   "execution_count": 52,
   "metadata": {},
   "outputs": [
    {
     "data": {
      "text/html": [
       "<div>\n",
       "<style scoped>\n",
       "    .dataframe tbody tr th:only-of-type {\n",
       "        vertical-align: middle;\n",
       "    }\n",
       "\n",
       "    .dataframe tbody tr th {\n",
       "        vertical-align: top;\n",
       "    }\n",
       "\n",
       "    .dataframe thead th {\n",
       "        text-align: right;\n",
       "    }\n",
       "</style>\n",
       "<table border=\"1\" class=\"dataframe\">\n",
       "  <thead>\n",
       "    <tr style=\"text-align: right;\">\n",
       "      <th></th>\n",
       "      <th>Title</th>\n",
       "      <th>Genre</th>\n",
       "      <th>fantasy</th>\n",
       "      <th>science</th>\n",
       "      <th>horror</th>\n",
       "      <th>western</th>\n",
       "      <th>thriller</th>\n",
       "      <th>mystery</th>\n",
       "      <th>detective</th>\n",
       "      <th>dystopia</th>\n",
       "      <th>adventure</th>\n",
       "      <th>history</th>\n",
       "      <th>biography</th>\n",
       "      <th>young</th>\n",
       "      <th>picture</th>\n",
       "      <th>children</th>\n",
       "      <th>role-playing</th>\n",
       "      <th>comedy</th>\n",
       "      <th>philosophy</th>\n",
       "      <th>political</th>\n",
       "    </tr>\n",
       "  </thead>\n",
       "  <tbody>\n",
       "    <tr>\n",
       "      <td>0</td>\n",
       "      <td>Ratha and Thistle-chaser</td>\n",
       "      <td>[[Adventure fiction|Adventure]], [[Fantasy]]</td>\n",
       "      <td>1</td>\n",
       "      <td>0</td>\n",
       "      <td>0</td>\n",
       "      <td>0</td>\n",
       "      <td>0</td>\n",
       "      <td>0</td>\n",
       "      <td>0</td>\n",
       "      <td>0</td>\n",
       "      <td>1</td>\n",
       "      <td>0</td>\n",
       "      <td>0</td>\n",
       "      <td>0</td>\n",
       "      <td>0</td>\n",
       "      <td>0</td>\n",
       "      <td>0</td>\n",
       "      <td>0</td>\n",
       "      <td>0</td>\n",
       "      <td>0</td>\n",
       "    </tr>\n",
       "    <tr>\n",
       "      <td>1</td>\n",
       "      <td>Macdonald Hall Goes Hollywood</td>\n",
       "      <td>[[Adventure (genre)|Adventure]]</td>\n",
       "      <td>0</td>\n",
       "      <td>0</td>\n",
       "      <td>0</td>\n",
       "      <td>0</td>\n",
       "      <td>0</td>\n",
       "      <td>0</td>\n",
       "      <td>0</td>\n",
       "      <td>0</td>\n",
       "      <td>1</td>\n",
       "      <td>0</td>\n",
       "      <td>0</td>\n",
       "      <td>0</td>\n",
       "      <td>0</td>\n",
       "      <td>0</td>\n",
       "      <td>0</td>\n",
       "      <td>0</td>\n",
       "      <td>0</td>\n",
       "      <td>0</td>\n",
       "    </tr>\n",
       "    <tr>\n",
       "      <td>2</td>\n",
       "      <td>Beware the Fish</td>\n",
       "      <td>[[Adventure (genre)|Adventure]]</td>\n",
       "      <td>0</td>\n",
       "      <td>0</td>\n",
       "      <td>0</td>\n",
       "      <td>0</td>\n",
       "      <td>0</td>\n",
       "      <td>0</td>\n",
       "      <td>0</td>\n",
       "      <td>0</td>\n",
       "      <td>1</td>\n",
       "      <td>0</td>\n",
       "      <td>0</td>\n",
       "      <td>0</td>\n",
       "      <td>0</td>\n",
       "      <td>0</td>\n",
       "      <td>0</td>\n",
       "      <td>0</td>\n",
       "      <td>0</td>\n",
       "      <td>0</td>\n",
       "    </tr>\n",
       "    <tr>\n",
       "      <td>3</td>\n",
       "      <td>Son of Interflux</td>\n",
       "      <td>[[Adventure (genre)|Adventure]]</td>\n",
       "      <td>0</td>\n",
       "      <td>0</td>\n",
       "      <td>0</td>\n",
       "      <td>0</td>\n",
       "      <td>0</td>\n",
       "      <td>0</td>\n",
       "      <td>0</td>\n",
       "      <td>0</td>\n",
       "      <td>1</td>\n",
       "      <td>0</td>\n",
       "      <td>0</td>\n",
       "      <td>0</td>\n",
       "      <td>0</td>\n",
       "      <td>0</td>\n",
       "      <td>0</td>\n",
       "      <td>0</td>\n",
       "      <td>0</td>\n",
       "      <td>0</td>\n",
       "    </tr>\n",
       "    <tr>\n",
       "      <td>4</td>\n",
       "      <td>The War with Mr. Wizzle</td>\n",
       "      <td>[[Adventure (genre)|Adventure]]</td>\n",
       "      <td>0</td>\n",
       "      <td>0</td>\n",
       "      <td>0</td>\n",
       "      <td>0</td>\n",
       "      <td>0</td>\n",
       "      <td>0</td>\n",
       "      <td>0</td>\n",
       "      <td>0</td>\n",
       "      <td>1</td>\n",
       "      <td>0</td>\n",
       "      <td>0</td>\n",
       "      <td>0</td>\n",
       "      <td>0</td>\n",
       "      <td>0</td>\n",
       "      <td>0</td>\n",
       "      <td>0</td>\n",
       "      <td>0</td>\n",
       "      <td>0</td>\n",
       "    </tr>\n",
       "  </tbody>\n",
       "</table>\n",
       "</div>"
      ],
      "text/plain": [
       "                           Title  \\\n",
       "0       Ratha and Thistle-chaser   \n",
       "1  Macdonald Hall Goes Hollywood   \n",
       "2                Beware the Fish   \n",
       "3               Son of Interflux   \n",
       "4        The War with Mr. Wizzle   \n",
       "\n",
       "                                          Genre  fantasy  science  horror  \\\n",
       "0  [[Adventure fiction|Adventure]], [[Fantasy]]        1        0       0   \n",
       "1               [[Adventure (genre)|Adventure]]        0        0       0   \n",
       "2               [[Adventure (genre)|Adventure]]        0        0       0   \n",
       "3               [[Adventure (genre)|Adventure]]        0        0       0   \n",
       "4               [[Adventure (genre)|Adventure]]        0        0       0   \n",
       "\n",
       "   western  thriller  mystery  detective  dystopia  adventure  history  \\\n",
       "0        0         0        0          0         0          1        0   \n",
       "1        0         0        0          0         0          1        0   \n",
       "2        0         0        0          0         0          1        0   \n",
       "3        0         0        0          0         0          1        0   \n",
       "4        0         0        0          0         0          1        0   \n",
       "\n",
       "   biography  young  picture  children  role-playing  comedy  philosophy  \\\n",
       "0          0      0        0         0             0       0           0   \n",
       "1          0      0        0         0             0       0           0   \n",
       "2          0      0        0         0             0       0           0   \n",
       "3          0      0        0         0             0       0           0   \n",
       "4          0      0        0         0             0       0           0   \n",
       "\n",
       "   political  \n",
       "0          0  \n",
       "1          0  \n",
       "2          0  \n",
       "3          0  \n",
       "4          0  "
      ]
     },
     "execution_count": 52,
     "metadata": {},
     "output_type": "execute_result"
    }
   ],
   "source": [
    "df.head()"
   ]
  },
  {
   "cell_type": "code",
   "execution_count": 54,
   "metadata": {},
   "outputs": [
    {
     "data": {
      "image/png": "[encoded data removed]",
      "text/plain": [
       "<Figure size 432x288 with 1 Axes>"
      ]
     },
     "metadata": {
      "needs_background": "light"
     },
     "output_type": "display_data"
    }
   ],
   "source": [
    "genre = df.columns[2:]\n",
    "count = []\n",
    "for i in genre:\n",
    "    count.append(sum(df[i]))\n",
    "    \n",
    "\n",
    "y_pos = np.arange(len(genre))\n",
    "\n",
    "plt.bar(y_pos, count, align='center', alpha=0.5)\n",
    "plt.xticks(y_pos, genre,rotation=90)\n",
    "plt.ylabel('Count')\n",
    "plt.title('Count by Genre')\n",
    "plt.show()"
   ]
  },
  {
   "cell_type": "code",
   "execution_count": 61,
   "metadata": {},
   "outputs": [
    {
     "data": {
      "text/plain": [
       "40"
      ]
     },
     "execution_count": 61,
     "metadata": {},
     "output_type": "execute_result"
    }
   ],
   "source": [
    "sum(df['western'])"
   ]
  },
  {
   "cell_type": "code",
   "execution_count": 64,
   "metadata": {},
   "outputs": [],
   "source": [
    "sum_row = df.sum(axis=1)"
   ]
  },
  {
   "cell_type": "code",
   "execution_count": 65,
   "metadata": {},
   "outputs": [
    {
     "data": {
      "text/plain": [
       "Text(0.5, 1.0, 'Count by Book')"
      ]
     },
     "execution_count": 65,
     "metadata": {},
     "output_type": "execute_result"
    },
    {
     "data": {
      "image/png": "[encoded data removed]",
      "text/plain": [
       "<Figure size 432x288 with 1 Axes>"
      ]
     },
     "metadata": {
      "needs_background": "light"
     },
     "output_type": "display_data"
    }
   ],
   "source": [
    "plt.hist(sum_row)\n",
    "plt.title('Count by Book')"
   ]
  },
  {
   "cell_type": "code",
   "execution_count": 67,
   "metadata": {},
   "outputs": [
    {
     "name": "stdout",
     "output_type": "stream",
     "text": [
      "We have 11085 books with genre in total, but 2923 books does not belong to any of the above genres\n"
     ]
    }
   ],
   "source": [
    "print('We have %.0f books with genre in total, but %.0f books does not belong to any of the above genres' \\\n",
    "      %(len(sum_row), sum(sum_row==0)))"
   ]
  },
  {
   "cell_type": "code",
   "execution_count": 58,
   "metadata": {},
   "outputs": [
    {
     "data": {
      "text/plain": [
       "2900"
      ]
     },
     "execution_count": 58,
     "metadata": {},
     "output_type": "execute_result"
    }
   ],
   "source": [
    "sum(sum_row==0)"
   ]
  },
  {
   "cell_type": "code",
   "execution_count": 59,
   "metadata": {},
   "outputs": [
    {
     "data": {
      "text/plain": [
       "134    [[African american literature|African American...\n",
       "135                      [[African-American Literature]]\n",
       "136                      [[African-American literature]]\n",
       "137                      [[African-American literature]]\n",
       "138                                [[Allegorical]] novel\n",
       "140                                         [[Allegory]]\n",
       "141                                         [[allegory]]\n",
       "142    [[Allegory]], [[satire]], [[woodcuts]] and [[d...\n",
       "228                                 [[Alternative rock]]\n",
       "229    [[Alternative rock]], [[alternative country]],...\n",
       "230    [[Alternative rock]], [[pop punk]], [[indie ro...\n",
       "233                [[American Literature]] [[anthology]]\n",
       "235                                        [[Anarchism]]\n",
       "236                                        [[Anthology]]\n",
       "237                                        [[Anthology]]\n",
       "238                                        [[Anthology]]\n",
       "239                                        [[Anthology]]\n",
       "240                                        [[Anthology]]\n",
       "241         [[Apocalyptic and post-apocalyptic fiction]]\n",
       "242    [[Apocalyptic and post-apocalyptic fiction|Pos...\n",
       "Name: Genre, dtype: object"
      ]
     },
     "execution_count": 59,
     "metadata": {},
     "output_type": "execute_result"
    }
   ],
   "source": [
    "df[sum_row==0].Genre[:20]"
   ]
  },
  {
   "cell_type": "code",
   "execution_count": 50,
   "metadata": {},
   "outputs": [
    {
     "data": {
      "text/plain": [
       "27"
      ]
     },
     "execution_count": 50,
     "metadata": {},
     "output_type": "execute_result"
    }
   ],
   "source": [
    "sum(df.Genre.apply(lambda x: 1 if 'anthology' in x.lower() else 0))"
   ]
  },
  {
   "cell_type": "code",
   "execution_count": 138,
   "metadata": {},
   "outputs": [],
   "source": [
    "g = genre[[i>=250 for i in count]]"
   ]
  },
  {
   "cell_type": "code",
   "execution_count": 139,
   "metadata": {},
   "outputs": [],
   "source": [
    "newsum = df[g].sum(axis=1)"
   ]
  },
  {
   "cell_type": "code",
   "execution_count": 140,
   "metadata": {},
   "outputs": [
    {
     "name": "stdout",
     "output_type": "stream",
     "text": [
      "3865\n",
      "0.34866937302661255\n"
     ]
    }
   ],
   "source": [
    "print(len(df[newsum==0]))\n",
    "print(len(df[newsum==0])/len(df))"
   ]
  },
  {
   "cell_type": "code",
   "execution_count": 141,
   "metadata": {},
   "outputs": [
    {
     "data": {
      "text/html": [
       "<div>\n",
       "<style scoped>\n",
       "    .dataframe tbody tr th:only-of-type {\n",
       "        vertical-align: middle;\n",
       "    }\n",
       "\n",
       "    .dataframe tbody tr th {\n",
       "        vertical-align: top;\n",
       "    }\n",
       "\n",
       "    .dataframe thead th {\n",
       "        text-align: right;\n",
       "    }\n",
       "</style>\n",
       "<table border=\"1\" class=\"dataframe\">\n",
       "  <thead>\n",
       "    <tr style=\"text-align: right;\">\n",
       "      <th></th>\n",
       "      <th>Title</th>\n",
       "      <th>fantasy</th>\n",
       "      <th>science</th>\n",
       "      <th>horror</th>\n",
       "      <th>thriller</th>\n",
       "      <th>mystery</th>\n",
       "      <th>detective</th>\n",
       "      <th>history</th>\n",
       "      <th>young</th>\n",
       "      <th>children</th>\n",
       "    </tr>\n",
       "  </thead>\n",
       "  <tbody>\n",
       "    <tr>\n",
       "      <td>0</td>\n",
       "      <td>Ratha and Thistle-chaser</td>\n",
       "      <td>1</td>\n",
       "      <td>0</td>\n",
       "      <td>0</td>\n",
       "      <td>0</td>\n",
       "      <td>0</td>\n",
       "      <td>0</td>\n",
       "      <td>0</td>\n",
       "      <td>0</td>\n",
       "      <td>0</td>\n",
       "    </tr>\n",
       "    <tr>\n",
       "      <td>11</td>\n",
       "      <td>The Plague Dogs</td>\n",
       "      <td>0</td>\n",
       "      <td>1</td>\n",
       "      <td>0</td>\n",
       "      <td>0</td>\n",
       "      <td>0</td>\n",
       "      <td>0</td>\n",
       "      <td>0</td>\n",
       "      <td>0</td>\n",
       "      <td>0</td>\n",
       "    </tr>\n",
       "    <tr>\n",
       "      <td>13</td>\n",
       "      <td>The Pirates of Malaysia</td>\n",
       "      <td>0</td>\n",
       "      <td>0</td>\n",
       "      <td>0</td>\n",
       "      <td>0</td>\n",
       "      <td>0</td>\n",
       "      <td>0</td>\n",
       "      <td>0</td>\n",
       "      <td>1</td>\n",
       "      <td>0</td>\n",
       "    </tr>\n",
       "    <tr>\n",
       "      <td>14</td>\n",
       "      <td>The Black Corsair</td>\n",
       "      <td>0</td>\n",
       "      <td>0</td>\n",
       "      <td>0</td>\n",
       "      <td>0</td>\n",
       "      <td>0</td>\n",
       "      <td>0</td>\n",
       "      <td>0</td>\n",
       "      <td>1</td>\n",
       "      <td>0</td>\n",
       "    </tr>\n",
       "    <tr>\n",
       "      <td>15</td>\n",
       "      <td>Quest for a Throne</td>\n",
       "      <td>0</td>\n",
       "      <td>0</td>\n",
       "      <td>0</td>\n",
       "      <td>0</td>\n",
       "      <td>0</td>\n",
       "      <td>0</td>\n",
       "      <td>0</td>\n",
       "      <td>1</td>\n",
       "      <td>0</td>\n",
       "    </tr>\n",
       "  </tbody>\n",
       "</table>\n",
       "</div>"
      ],
      "text/plain": [
       "                       Title  fantasy  science  horror  thriller  mystery  \\\n",
       "0   Ratha and Thistle-chaser        1        0       0         0        0   \n",
       "11           The Plague Dogs        0        1       0         0        0   \n",
       "13   The Pirates of Malaysia        0        0       0         0        0   \n",
       "14         The Black Corsair        0        0       0         0        0   \n",
       "15        Quest for a Throne        0        0       0         0        0   \n",
       "\n",
       "    detective  history  young  children  \n",
       "0           0        0      0         0  \n",
       "11          0        0      0         0  \n",
       "13          0        0      1         0  \n",
       "14          0        0      1         0  \n",
       "15          0        0      1         0  "
      ]
     },
     "execution_count": 141,
     "metadata": {},
     "output_type": "execute_result"
    }
   ],
   "source": [
    "newdf = df[newsum!=0][['Title']+list(g)]\n",
    "newdf.head()"
   ]
  },
  {
   "cell_type": "code",
   "execution_count": 142,
   "metadata": {},
   "outputs": [
    {
     "data": {
      "image/png": "[encoded data removed]",
      "text/plain": [
       "<Figure size 432x288 with 1 Axes>"
      ]
     },
     "metadata": {
      "needs_background": "light"
     },
     "output_type": "display_data"
    }
   ],
   "source": [
    "genre = newdf.columns[1:]\n",
    "count = []\n",
    "for i in genre:\n",
    "    count.append(sum(newdf[i]))\n",
    "    \n",
    "y_pos = np.arange(len(genre))\n",
    "\n",
    "plt.bar(y_pos, count, align='center', alpha=0.5)\n",
    "plt.xticks(y_pos, genre,rotation=90)\n",
    "plt.ylabel('Count')\n",
    "plt.title('Count by Genre')\n",
    "plt.show()"
   ]
  },
  {
   "cell_type": "code",
   "execution_count": 143,
   "metadata": {},
   "outputs": [
    {
     "data": {
      "text/plain": [
       "Text(0.5, 1.0, 'Count by Book')"
      ]
     },
     "execution_count": 143,
     "metadata": {},
     "output_type": "execute_result"
    },
    {
     "data": {
      "image/png": "[encoded data removed]",
      "text/plain": [
       "<Figure size 432x288 with 1 Axes>"
      ]
     },
     "metadata": {
      "needs_background": "light"
     },
     "output_type": "display_data"
    }
   ],
   "source": [
    "plt.hist(newdf.sum(axis=1))\n",
    "plt.title('Count by Book')"
   ]
  },
  {
   "cell_type": "code",
   "execution_count": 144,
   "metadata": {},
   "outputs": [],
   "source": [
    "newdf.to_csv('book_genre.csv')"
   ]
  },
  {
   "cell_type": "code",
   "execution_count": 145,
   "metadata": {},
   "outputs": [
    {
     "data": {
      "text/plain": [
       "Index(['fantasy', 'science', 'horror', 'thriller', 'mystery', 'detective',\n",
       "       'history', 'young', 'children'],\n",
       "      dtype='object')"
      ]
     },
     "execution_count": 145,
     "metadata": {},
     "output_type": "execute_result"
    }
   ],
   "source": [
    "g"
   ]
  },
  {
   "cell_type": "code",
   "execution_count": null,
   "metadata": {},
   "outputs": [],
   "source": []
  }
 ],
 "metadata": {
  "kernelspec": {
   "display_name": "Python 3",
   "language": "python",
   "name": "python3"
  },
  "language_info": {
   "codemirror_mode": {
    "name": "ipython",
    "version": 3
   },
   "file_extension": ".py",
   "mimetype": "text/x-python",
   "name": "python",
   "nbconvert_exporter": "python",
   "pygments_lexer": "ipython3",
   "version": "3.7.4"
  }
 },
 "nbformat": 4,
 "nbformat_minor": 2
}
