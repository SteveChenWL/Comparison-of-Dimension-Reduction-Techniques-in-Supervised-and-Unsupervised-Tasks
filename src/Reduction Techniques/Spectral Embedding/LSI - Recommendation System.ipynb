{
 "cells": [
  {
   "cell_type": "code",
   "execution_count": 492,
   "metadata": {},
   "outputs": [],
   "source": [
    "import pandas as pd \n",
    "import matplotlib.pyplot as plt \n",
    "import numpy as np\n",
    "\n",
    "# sklearn\n",
    "from sklearn.preprocessing import StandardScaler, normalize, Normalizer \n",
    "from sklearn.metrics import silhouette_score\n",
    "from sklearn.decomposition import TruncatedSVD\n",
    "from sklearn.feature_extraction.text import CountVectorizer,TfidfVectorizer\n",
    "from sklearn.pipeline import make_pipeline\n",
    "from sklearn.metrics.pairwise import cosine_similarity\n",
    "\n",
    "# gensim\n",
    "import gensim\n",
    "from gensim import corpora,models"
   ]
  },
  {
   "cell_type": "code",
   "execution_count": 177,
   "metadata": {},
   "outputs": [
    {
     "data": {
      "text/html": [
       "<div>\n",
       "<style scoped>\n",
       "    .dataframe tbody tr th:only-of-type {\n",
       "        vertical-align: middle;\n",
       "    }\n",
       "\n",
       "    .dataframe tbody tr th {\n",
       "        vertical-align: top;\n",
       "    }\n",
       "\n",
       "    .dataframe thead th {\n",
       "        text-align: right;\n",
       "    }\n",
       "</style>\n",
       "<table border=\"1\" class=\"dataframe\">\n",
       "  <thead>\n",
       "    <tr style=\"text-align: right;\">\n",
       "      <th></th>\n",
       "      <th>Title</th>\n",
       "      <th>Cleaned_Plot</th>\n",
       "    </tr>\n",
       "  </thead>\n",
       "  <tbody>\n",
       "    <tr>\n",
       "      <td>0</td>\n",
       "      <td>The Day of the Pelican</td>\n",
       "      <td>story fictional family family living midst war family suddenly homeless middle violent war enduring much hardship hunger illness dangerous journey escape situation church group find small town tak...</td>\n",
       "    </tr>\n",
       "  </tbody>\n",
       "</table>\n",
       "</div>"
      ],
      "text/plain": [
       "                    Title  \\\n",
       "0  The Day of the Pelican   \n",
       "\n",
       "                                                                                                                                                                                              Cleaned_Plot  \n",
       "0  story fictional family family living midst war family suddenly homeless middle violent war enduring much hardship hunger illness dangerous journey escape situation church group find small town tak...  "
      ]
     },
     "execution_count": 177,
     "metadata": {},
     "output_type": "execute_result"
    }
   ],
   "source": [
    "# load data and clean it\n",
    "df = pd.read_csv('Data/clean_data_v2.csv')\n",
    "df = df[['Title','Cleaned_Plot']]\n",
    "df.head(1)"
   ]
  },
  {
   "cell_type": "markdown",
   "metadata": {},
   "source": [
    "## first try: word2vec + spectral embedding\n",
    "We create bag of words to represent for input documents firstly. Next, we would apply a word2vec to reduce the dimension into 1000 and construct a similarity matrix. \n",
    "\n",
    "Then, we could use the similarity matrix to construct a graph and apply the spectral embedding method."
   ]
  },
  {
   "cell_type": "markdown",
   "metadata": {},
   "source": [
    "## second try: TF-IDF + SVD -> LSA\n",
    "Replace the raw count matrix/document-term matrix with a TF-IDF score which would inform us more about the significance of each word in the document.\n",
    "\n",
    "## third try: word2vec\n",
    "\n",
    "\n",
    "### Topics Selection:\n",
    "**Difference methods for topic coherence:**https://towardsdatascience.com/evaluate-topic-model-in-python-latent-dirichlet-allocation-lda-7d57484bb5d0\n",
    "\n",
    "Here, we will use **C_v**, which is based on a sliding window, one-set segmentation of the top words and an indirect confirmation measure that uses normalized pointwise mutual information (NPMI) and the cosine similarity"
   ]
  },
  {
   "cell_type": "code",
   "execution_count": 476,
   "metadata": {},
   "outputs": [],
   "source": [
    "# tokenization\n",
    "X = df['Cleaned_Plot'].apply(lambda x: str(x).split())\n",
    "\n",
    "# split training&testing sets\n",
    "X_test = X[:3600]\n",
    "X_train = X[3600:]\n",
    "y_test = list(df['Title'][:3600])\n",
    "y_train = list(df['Title'][3600:])"
   ]
  },
  {
   "cell_type": "code",
   "execution_count": 303,
   "metadata": {},
   "outputs": [],
   "source": [
    "# Data Preprocessing\n",
    "def dataPreprocessing(X):\n",
    "    '''\n",
    "    Args:\n",
    "        X: documents, each sample with a list of tokens\n",
    "\n",
    "    Return:\n",
    "        dictionary: index(key): words(values)\n",
    "        corpus_tfidf: a list of documents which are represented by TF-IDF\n",
    "    '''\n",
    "    # create a dictionary, map index to words\n",
    "    dictionary = corpora.Dictionary(X)\n",
    "    \n",
    "    # apply bag of words for input, here the index would represent for words\n",
    "    corpus = [dictionary.doc2bow(text)for text in X]\n",
    "    \n",
    "    # apply if-idf model for corpus\n",
    "    #vectorizer = TfidfVectorizer(max_features=10000)\n",
    "    #tfidf_model = vectorizer.fit_transform(corpus)\n",
    "    tfidf_model = models.TfidfModel(corpus,normalize=True)\n",
    "\n",
    "    # represent the input with tf-idf\n",
    "    corpus_tfidf = [tfidf_model[doc] for doc in corpus]\n",
    "    \n",
    "    return dictionary, corpus_tfidf,corpus\n",
    "\n",
    "# Apply TF-IDF model\n",
    "dictionary, X_train_tfidf,X_bow = dataPreprocessing(X_train)"
   ]
  },
  {
   "cell_type": "code",
   "execution_count": 325,
   "metadata": {},
   "outputs": [],
   "source": [
    "# number of topics selection for LSI/LSA\n",
    "def topicsSelection(X_train,X_tfidf,num_topics,dictionary):\n",
    "    '''\n",
    "    Args:\n",
    "        X_train: documents, each sample with a list of tokens \n",
    "        X_tfidf: documents, each sample with a list TF-IDF values\n",
    "        num_topics: a list of options for number of topics\n",
    "        dictionary: index(key): words(values)\n",
    "    Return:\n",
    "        coherence_values: a list of coherence values for each model\n",
    "        model_list: a list of trained models\n",
    "    '''\n",
    "    \n",
    "    coherence_values = []\n",
    "    model_list = []\n",
    "    \n",
    "    # train models with differen number of topics\n",
    "    for i in num_topics:\n",
    "        lsi = models.LsiModel(X_tfidf,id2word = dictionary,num_topics = i)\n",
    "        coherence_model = models.CoherenceModel(model = lsi, \n",
    "                                                texts = X_train,dictionary=dictionary,coherence='c_v')\n",
    "        coherence_values.append(coherence_model.get_coherence())\n",
    "        model_list.append(lsi)\n",
    "\n",
    "\n",
    "    return coherence_values,model_list"
   ]
  },
  {
   "cell_type": "code",
   "execution_count": 330,
   "metadata": {},
   "outputs": [
    {
     "data": {
      "text/plain": [
       "Text(0, 0.5, 'Coherence')"
      ]
     },
     "execution_count": 330,
     "metadata": {},
     "output_type": "execute_result"
    },
    {
     "data": {
      "image/png": "[encoded data removed]",
      "text/plain": [
       "<Figure size 432x288 with 1 Axes>"
      ]
     },
     "metadata": {
      "needs_background": "light"
     },
     "output_type": "display_data"
    }
   ],
   "source": [
    "# First try to find optimal number of topics\n",
    "num_topics = [i for i in range(5,201,5)]\n",
    "coherence_values,model_list = topicsSelection(X_train,X_train_tfidf,num_topics,dictionary)\n",
    "\n",
    "plt.scatter(num_topics, coherence_values)\n",
    "plt.title('Number of Topics v.s. Coherence(c_v)')\n",
    "plt.xlabel('Number of Topics')\n",
    "plt.ylabel('Coherence')"
   ]
  },
  {
   "cell_type": "markdown",
   "metadata": {},
   "source": [
    "As above graph shown, coherence score drops as the number of topics increases from 5 to 200. Next, we will use grid search for number of topics from 1 to 9."
   ]
  },
  {
   "cell_type": "code",
   "execution_count": 392,
   "metadata": {},
   "outputs": [
    {
     "data": {
      "text/plain": [
       "Text(0, 0.5, 'Coherence')"
      ]
     },
     "execution_count": 392,
     "metadata": {},
     "output_type": "execute_result"
    },
    {
     "data": {
      "image/png": "[encoded data removed]",
      "text/plain": [
       "<Figure size 432x288 with 1 Axes>"
      ]
     },
     "metadata": {
      "needs_background": "light"
     },
     "output_type": "display_data"
    }
   ],
   "source": [
    "# Second try to find optimal number of topics\n",
    "num_topics1 = [i for i in range(1,10)]\n",
    "coherence_values1,model_list1 = topicsSelection(X_train,X_train_tfidf,num_topics1,dictionary)\n",
    "plt.scatter(num_topics1, coherence_values1)\n",
    "plt.title('Number of Topics v.s. Coherence(c_v)')\n",
    "plt.xlabel('Number of Topics')\n",
    "plt.ylabel('Coherence')"
   ]
  },
  {
   "cell_type": "code",
   "execution_count": 426,
   "metadata": {},
   "outputs": [
    {
     "name": "stdout",
     "output_type": "stream",
     "text": [
      "When we have 6 topics, the coherence is: 0.467\n"
     ]
    }
   ],
   "source": [
    "print('When we have 6 topics, the coherence is:',round(coherence_values1[5],3))"
   ]
  },
  {
   "cell_type": "markdown",
   "metadata": {},
   "source": [
    "From above results, the coherence score reaches the peak when we have 6 topics. So, we select the model with 6 topics as our final model. "
   ]
  },
  {
   "cell_type": "markdown",
   "metadata": {},
   "source": [
    "## Measure the performance of LSI for books recommendation system\n",
    "\n",
    "Here, we will build a book recommendation system which would recommend top 10 similar books based on plots description in wikipedia. To measure the performance of our system, we split each sample in the testing set into two parts. Our goal is to see whether we could use the data from first half to find the second half of same book. So, we now transform it into a classification problem and could measure the performance by accuracy.\n",
    "\n",
    "Specifically, one part is the input to find 10 similar books, another part would be put into the book pool. Then, we apply the selected LSI model to transform the two parts of the testing set. The system would calcuate the cosine similarity between each book in the pool and the input book, and then output the top 10 similar books. We'll use cosine similarity to measure distance between books. "
   ]
  },
  {
   "cell_type": "code",
   "execution_count": 538,
   "metadata": {},
   "outputs": [],
   "source": [
    "# split testing set into two parts\n",
    "X_test_first = [doc[:len(doc)//2] for doc in X_test]\n",
    "X_test_second = [doc[len(doc)//2:] for doc in X_test]\n",
    "y_test_first = [title for title in y_test]\n",
    "y_test_second = [title+' Second' for title in y_test]\n",
    "\n",
    "# select a lsi model\n",
    "lsi = model_list1[5]"
   ]
  },
  {
   "cell_type": "code",
   "execution_count": 531,
   "metadata": {},
   "outputs": [],
   "source": [
    "# apply LSI model to represent documents by topics\n",
    "X_pool_lsi = []\n",
    "for doc in X_train:\n",
    "    topics = [topic[1] for topic in lsi[dictionary.doc2bow(doc)]]\n",
    "    X_train_lsi.append(topics)\n",
    "\n",
    "X_test_first_lsi = []\n",
    "for doc in X_test_first:\n",
    "    topics = [topic[1] for topic in lsi[dictionary.doc2bow(doc)]]\n",
    "    X_test_first_lsi.append(topics)\n",
    "\n",
    "X_test_second_lsi = []\n",
    "for doc in X_test_second:\n",
    "    topics = [topic[1] for topic in lsi[dictionary.doc2bow(doc)]]\n",
    "    X_test_second_lsi.append(topics)\n",
    "\n",
    "# Build a book pool for recommendation system\n",
    "X_pool_lsi.extend(X_test_second_lsi)\n",
    "y_pool_lsi = list(y_train) + list(y_test_second)"
   ]
  },
  {
   "cell_type": "code",
   "execution_count": 532,
   "metadata": {},
   "outputs": [
    {
     "data": {
      "text/plain": [
       "'Concept of the Corporation Second'"
      ]
     },
     "execution_count": 532,
     "metadata": {},
     "output_type": "execute_result"
    }
   ],
   "source": [
    "y_pool_lsi[-2]\n",
    "len(X_pool_lsi)"
   ]
  },
  {
   "cell_type": "code",
   "execution_count": 483,
   "metadata": {},
   "outputs": [],
   "source": [
    "# output the topics matrix of X for visualization\n",
    "X_lsi = []\n",
    "for doc in X:\n",
    "    topics = [topic[1] for topic in lsi[dictionary.doc2bow(doc)]]\n",
    "    X_lsi.append(topics)\n",
    "\n",
    "df1 = pd.DataFrame(X_lsi)\n",
    "df1['Title'] = list(df['Title'])\n",
    "df1.to_csv('X_lsi.csv')"
   ]
  },
  {
   "cell_type": "code",
   "execution_count": 545,
   "metadata": {},
   "outputs": [],
   "source": [
    "# build up a recoomendation sytem\n",
    "class recommendSystem:\n",
    "    \n",
    "    def __init__(self,X_pool,y_pool,book_list,n):\n",
    "        self.X_pool = X_pool\n",
    "        self.y_pool = y_pool\n",
    "        self.book_list = book_list\n",
    "        self.n = n\n",
    "    \n",
    "    def similarity(self,book):\n",
    "        return list(cosine_similarity(self.X_pool,book))\n",
    "    \n",
    "    def findLargest(self,sim_mat):\n",
    "        idx = []\n",
    "        val = []\n",
    "        while len(idx) < self.n:\n",
    "            largest = -float('inf')\n",
    "            largest_idx = -1\n",
    "            for i in range(len(sim_mat)):\n",
    "                if sim_mat[i] > largest and i not in idx:\n",
    "                    largest = sim_mat[i]\n",
    "                    largest_idx = i\n",
    "            idx.append(largest_idx)\n",
    "            val.append(largest)\n",
    "        return idx, val\n",
    "    \n",
    "    def recommender(self):\n",
    "        book_recommend = []\n",
    "        for b in self.book_list:\n",
    "            sim_mat = self.similarity(np.array(b).reshape(-1,len(b)))\n",
    "            idx,_ = self.findLargest(sim_mat)\n",
    "            recommed = [self.y_pool[i] for i in idx]\n",
    "            book_recommend.append(recommed)\n",
    "        return book_recommend\n",
    "    "
   ]
  },
  {
   "cell_type": "code",
   "execution_count": 548,
   "metadata": {},
   "outputs": [],
   "source": [
    "book_list = X_test_first_lsi[:100]\n",
    "n = 100\n",
    "recom= recommendSystem(X_pool_lsi,y_pool_lsi,book_list,n)"
   ]
  },
  {
   "cell_type": "code",
   "execution_count": 549,
   "metadata": {},
   "outputs": [],
   "source": [
    "book_recommend = recom.recommender()"
   ]
  },
  {
   "cell_type": "code",
   "execution_count": 552,
   "metadata": {},
   "outputs": [],
   "source": [
    "fp = 0\n",
    "for i in range(len(book_list)):\n",
    "    if y_test_first[i]+' Second' in book_recommend[i]:\n",
    "        fp += 1\n"
   ]
  }
 ],
 "metadata": {
  "kernelspec": {
   "display_name": "Python 3",
   "language": "python",
   "name": "python3"
  },
  "language_info": {
   "codemirror_mode": {
    "name": "ipython",
    "version": 3
   },
   "file_extension": ".py",
   "mimetype": "text/x-python",
   "name": "python",
   "nbconvert_exporter": "python",
   "pygments_lexer": "ipython3",
   "version": "3.7.4"
  }
 },
 "nbformat": 4,
 "nbformat_minor": 2
}
