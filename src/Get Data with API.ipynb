{
 "cells": [
  {
   "cell_type": "markdown",
   "metadata": {},
   "source": [
    "### Get Data with API"
   ]
  },
  {
   "cell_type": "code",
   "execution_count": 2,
   "metadata": {},
   "outputs": [],
   "source": [
    "import pandas as pd\n",
    "import wikipedia\n",
    "import wikipediaapi\n",
    "import wptools\n",
    "\n",
    "wiki_wiki = wikipediaapi.Wikipedia('en')\n",
    "\n",
    "def get_sections(bookname, level=0):\n",
    "    p = wiki_wiki.page(bookname)\n",
    "    sections = p.sections\n",
    "    titles = []\n",
    "    texts = []\n",
    "    for s in sections:\n",
    "           titles.append(s.title)\n",
    "           texts.append(s.text)\n",
    "    return dict(zip(titles, texts))  \n",
    "\n",
    "\n",
    "book = pd.read_csv('book.csv')\n",
    "books = book[:50]['name']\n"
   ]
  },
  {
   "cell_type": "code",
   "execution_count": 19,
   "metadata": {},
   "outputs": [],
   "source": [
    "%%capture\n",
    "\n",
    "title = []\n",
    "summary = []\n",
    "content = []\n",
    "link = []\n",
    "author = []\n",
    "country = []\n",
    "language = []\n",
    "genre = []\n",
    "\n",
    "for i in range(10):\n",
    "    try:\n",
    "        page = wikipedia.page(books[i])\n",
    "        title.append(page.title)\n",
    "        summary.append(page.summary)\n",
    "        content.append(get_sections(books[i]))\n",
    "        link.append(page.links)\n",
    "        parse = wptools.page(books[i]).get_parse()\n",
    "        infobox = parse.data.get('infobox', None)\n",
    "        if infobox:\n",
    "            author.append(infobox.get('author', None))\n",
    "            country.append(infobox.get('country', None))\n",
    "            language.append(infobox.get('language', None))\n",
    "            genre.append(infobox.get('genre', None))\n",
    "        else:\n",
    "            author.append(None)\n",
    "            country.append(None)\n",
    "            language.append(None)\n",
    "            genre.append(None)\n",
    "            \n",
    "    except:\n",
    "        pass\n",
    "\n",
    "df = pd.DataFrame({'title':title, \n",
    "                   'author': author,\n",
    "                   'country': country,\n",
    "                   'language':language,\n",
    "                   'genre': genre,\n",
    "                   'summary':summary, \n",
    "                   'content': content, \n",
    "                   'link':link,})\n"
   ]
  },
  {
   "cell_type": "code",
   "execution_count": 21,
   "metadata": {},
   "outputs": [
    {
     "data": {
      "text/html": [
       "<div>\n",
       "<style scoped>\n",
       "    .dataframe tbody tr th:only-of-type {\n",
       "        vertical-align: middle;\n",
       "    }\n",
       "\n",
       "    .dataframe tbody tr th {\n",
       "        vertical-align: top;\n",
       "    }\n",
       "\n",
       "    .dataframe thead th {\n",
       "        text-align: right;\n",
       "    }\n",
       "</style>\n",
       "<table border=\"1\" class=\"dataframe\">\n",
       "  <thead>\n",
       "    <tr style=\"text-align: right;\">\n",
       "      <th></th>\n",
       "      <th>title</th>\n",
       "      <th>author</th>\n",
       "      <th>country</th>\n",
       "      <th>language</th>\n",
       "      <th>genre</th>\n",
       "      <th>summary</th>\n",
       "      <th>content</th>\n",
       "      <th>link</th>\n",
       "    </tr>\n",
       "  </thead>\n",
       "  <tbody>\n",
       "    <tr>\n",
       "      <td>0</td>\n",
       "      <td>Freud: His Life and His Mind</td>\n",
       "      <td>Helen Walker Puner</td>\n",
       "      <td>United States</td>\n",
       "      <td>English</td>\n",
       "      <td>None</td>\n",
       "      <td>Freud: His Life and His Mind is a 1947 biograp...</td>\n",
       "      <td>{'Summary': 'Puner attempts to explain Freud's...</td>\n",
       "      <td>[Cambridge University Press, Carl Jung, Dell P...</td>\n",
       "    </tr>\n",
       "    <tr>\n",
       "      <td>1</td>\n",
       "      <td>Blackbox (novel)</td>\n",
       "      <td>Nick Walker</td>\n",
       "      <td>[[United Kingdom]]</td>\n",
       "      <td>[[English language|English]]</td>\n",
       "      <td>None</td>\n",
       "      <td>Blackbox is the first novel by British writer ...</td>\n",
       "      <td>{'Plot': 'A stowaway dies on board a flight.',...</td>\n",
       "      <td>[2002 in literature, Chris Morris (author), Co...</td>\n",
       "    </tr>\n",
       "    <tr>\n",
       "      <td>2</td>\n",
       "      <td>My Real Children</td>\n",
       "      <td>[[Jo Walton]]</td>\n",
       "      <td>United States</td>\n",
       "      <td>English</td>\n",
       "      <td>[[Fantasy literature]], [[alternate history]]</td>\n",
       "      <td>My Real Children is a 2014 alternate history n...</td>\n",
       "      <td>{'Plot': 'In 2015, Patricia is 89 years old an...</td>\n",
       "      <td>[1964 United States presidential election, A W...</td>\n",
       "    </tr>\n",
       "    <tr>\n",
       "      <td>3</td>\n",
       "      <td>The Alleys of Eden</td>\n",
       "      <td>[[Robert Olen Butler]]</td>\n",
       "      <td>United States</td>\n",
       "      <td>English</td>\n",
       "      <td>None</td>\n",
       "      <td>The Alleys of Eden is the first published nove...</td>\n",
       "      <td>{'Synopsis': 'Set in Saigon during the final d...</td>\n",
       "      <td>[1981 in literature, Dewey Decimal Classificat...</td>\n",
       "    </tr>\n",
       "    <tr>\n",
       "      <td>4</td>\n",
       "      <td>Day of the Dogs</td>\n",
       "      <td>[[Andrew Cartmel]]</td>\n",
       "      <td>None</td>\n",
       "      <td>None</td>\n",
       "      <td>Science fiction</td>\n",
       "      <td>Day of the Dogs is an original novel written b...</td>\n",
       "      <td>{'Synopsis': 'Johnny Alpha and Middenface McNu...</td>\n",
       "      <td>[Andrew Cartmel, Black Flame (publisher), Brit...</td>\n",
       "    </tr>\n",
       "    <tr>\n",
       "      <td>5</td>\n",
       "      <td>Oedipus in the Trobriands</td>\n",
       "      <td>[[Melford Spiro]]</td>\n",
       "      <td>United States</td>\n",
       "      <td>English</td>\n",
       "      <td>None</td>\n",
       "      <td>Oedipus in the Trobriands is a 1982 book about...</td>\n",
       "      <td>{'Summary': 'Spiro discusses the Oedipus compl...</td>\n",
       "      <td>[American Anthropologist, American Ethnologica...</td>\n",
       "    </tr>\n",
       "    <tr>\n",
       "      <td>6</td>\n",
       "      <td>On the Genealogy of Morality</td>\n",
       "      <td>[[Christopher Janaway]]</td>\n",
       "      <td>None</td>\n",
       "      <td>English</td>\n",
       "      <td>None</td>\n",
       "      <td>On the Genealogy of Morality: A Polemic (Germa...</td>\n",
       "      <td>{'Critical reception': 'Paul Bishop believed J...</td>\n",
       "      <td>[Amor fati, Anarchism and Friedrich Nietzsche,...</td>\n",
       "    </tr>\n",
       "    <tr>\n",
       "      <td>7</td>\n",
       "      <td>Wild Boy (novel)</td>\n",
       "      <td>[[Jill Dawson]]</td>\n",
       "      <td>United Kingdom</td>\n",
       "      <td>English</td>\n",
       "      <td>None</td>\n",
       "      <td>Wild Boy is a 2003 novel by English author Jil...</td>\n",
       "      <td>{'Plot introduction': 'The novel is split into...</td>\n",
       "      <td>[Asperger's Syndrome, Autism: Explaining the E...</td>\n",
       "    </tr>\n",
       "    <tr>\n",
       "      <td>8</td>\n",
       "      <td>Ali and Ramazan</td>\n",
       "      <td>[[Perihan Mağden]]</td>\n",
       "      <td>[[Turkey]]</td>\n",
       "      <td>[[Turkish language|Turkish]]</td>\n",
       "      <td>Novel</td>\n",
       "      <td>Ali and Ramazan (Ali ile Ramazan in Turkish) i...</td>\n",
       "      <td>{'Plot summary': 'Ali and Ramazan are two boys...</td>\n",
       "      <td>[AmazonCrossing, Bisexuality, Gay, Internation...</td>\n",
       "    </tr>\n",
       "    <tr>\n",
       "      <td>9</td>\n",
       "      <td>Future perfect</td>\n",
       "      <td>[[Steven Berlin Johnson]]</td>\n",
       "      <td>None</td>\n",
       "      <td>English</td>\n",
       "      <td>None</td>\n",
       "      <td>The future perfect is a verb form or construct...</td>\n",
       "      <td>{'Key concepts': 'The main idea that Johnson p...</td>\n",
       "      <td>[Afrikaans, Auxiliary verb, Catalan grammar, C...</td>\n",
       "    </tr>\n",
       "  </tbody>\n",
       "</table>\n",
       "</div>"
      ],
      "text/plain": [
       "                          title                     author  \\\n",
       "0  Freud: His Life and His Mind         Helen Walker Puner   \n",
       "1              Blackbox (novel)                Nick Walker   \n",
       "2              My Real Children              [[Jo Walton]]   \n",
       "3            The Alleys of Eden     [[Robert Olen Butler]]   \n",
       "4               Day of the Dogs         [[Andrew Cartmel]]   \n",
       "5     Oedipus in the Trobriands          [[Melford Spiro]]   \n",
       "6  On the Genealogy of Morality    [[Christopher Janaway]]   \n",
       "7              Wild Boy (novel)            [[Jill Dawson]]   \n",
       "8               Ali and Ramazan         [[Perihan Mağden]]   \n",
       "9                Future perfect  [[Steven Berlin Johnson]]   \n",
       "\n",
       "              country                      language  \\\n",
       "0       United States                       English   \n",
       "1  [[United Kingdom]]  [[English language|English]]   \n",
       "2       United States                       English   \n",
       "3       United States                       English   \n",
       "4                None                          None   \n",
       "5       United States                       English   \n",
       "6                None                       English   \n",
       "7      United Kingdom                       English   \n",
       "8          [[Turkey]]  [[Turkish language|Turkish]]   \n",
       "9                None                       English   \n",
       "\n",
       "                                           genre  \\\n",
       "0                                           None   \n",
       "1                                           None   \n",
       "2  [[Fantasy literature]], [[alternate history]]   \n",
       "3                                           None   \n",
       "4                                Science fiction   \n",
       "5                                           None   \n",
       "6                                           None   \n",
       "7                                           None   \n",
       "8                                          Novel   \n",
       "9                                           None   \n",
       "\n",
       "                                             summary  \\\n",
       "0  Freud: His Life and His Mind is a 1947 biograp...   \n",
       "1  Blackbox is the first novel by British writer ...   \n",
       "2  My Real Children is a 2014 alternate history n...   \n",
       "3  The Alleys of Eden is the first published nove...   \n",
       "4  Day of the Dogs is an original novel written b...   \n",
       "5  Oedipus in the Trobriands is a 1982 book about...   \n",
       "6  On the Genealogy of Morality: A Polemic (Germa...   \n",
       "7  Wild Boy is a 2003 novel by English author Jil...   \n",
       "8  Ali and Ramazan (Ali ile Ramazan in Turkish) i...   \n",
       "9  The future perfect is a verb form or construct...   \n",
       "\n",
       "                                             content  \\\n",
       "0  {'Summary': 'Puner attempts to explain Freud's...   \n",
       "1  {'Plot': 'A stowaway dies on board a flight.',...   \n",
       "2  {'Plot': 'In 2015, Patricia is 89 years old an...   \n",
       "3  {'Synopsis': 'Set in Saigon during the final d...   \n",
       "4  {'Synopsis': 'Johnny Alpha and Middenface McNu...   \n",
       "5  {'Summary': 'Spiro discusses the Oedipus compl...   \n",
       "6  {'Critical reception': 'Paul Bishop believed J...   \n",
       "7  {'Plot introduction': 'The novel is split into...   \n",
       "8  {'Plot summary': 'Ali and Ramazan are two boys...   \n",
       "9  {'Key concepts': 'The main idea that Johnson p...   \n",
       "\n",
       "                                                link  \n",
       "0  [Cambridge University Press, Carl Jung, Dell P...  \n",
       "1  [2002 in literature, Chris Morris (author), Co...  \n",
       "2  [1964 United States presidential election, A W...  \n",
       "3  [1981 in literature, Dewey Decimal Classificat...  \n",
       "4  [Andrew Cartmel, Black Flame (publisher), Brit...  \n",
       "5  [American Anthropologist, American Ethnologica...  \n",
       "6  [Amor fati, Anarchism and Friedrich Nietzsche,...  \n",
       "7  [Asperger's Syndrome, Autism: Explaining the E...  \n",
       "8  [AmazonCrossing, Bisexuality, Gay, Internation...  \n",
       "9  [Afrikaans, Auxiliary verb, Catalan grammar, C...  "
      ]
     },
     "metadata": {},
     "output_type": "display_data"
    }
   ],
   "source": [
    "display(df)"
   ]
  },
  {
   "cell_type": "markdown",
   "metadata": {},
   "source": [
    "### Map Books to Integers\n",
    "\n",
    "First we want to create a mapping of book titles to integers. When we feed books into the embedding neural network, we will have to represent them as numbers, and this mapping will let us keep track of the books. We'll also create the reverse mapping, from integers back to the title."
   ]
  },
  {
   "cell_type": "code",
   "execution_count": 25,
   "metadata": {},
   "outputs": [],
   "source": [
    "book_index = {book: idx for idx, book in enumerate(title)}\n",
    "index_book = {idx: book for book, idx in book_index.items()}"
   ]
  },
  {
   "cell_type": "markdown",
   "metadata": {},
   "source": [
    "### Exploring Wikilinks"
   ]
  },
  {
   "cell_type": "markdown",
   "metadata": {},
   "source": [
    "Although it's not our main focus, we can do a little exploration. Let's find the number of unique Wikilinks and the most common ones. To create a single list from a list of lists, we can use the itertools chain method."
   ]
  },
  {
   "cell_type": "code",
   "execution_count": 24,
   "metadata": {},
   "outputs": [
    {
     "name": "stdout",
     "output_type": "stream",
     "text": [
      "There are 362 unique wikilinks.\n"
     ]
    }
   ],
   "source": [
    "from itertools import chain\n",
    "wikilinks = list(chain(*[i for i in link]))\n",
    "print(f\"There are {len(set(wikilinks))} unique wikilinks.\")"
   ]
  },
  {
   "cell_type": "markdown",
   "metadata": {},
   "source": [
    "How many of these are links to other books?"
   ]
  },
  {
   "cell_type": "code",
   "execution_count": 26,
   "metadata": {},
   "outputs": [
    {
     "name": "stdout",
     "output_type": "stream",
     "text": [
      "There are 0 unique wikilinks to other books.\n"
     ]
    }
   ],
   "source": [
    "wikilinks_other_books = [link for link in wikilinks if link in book_index.keys()]\n",
    "print(f\"There are {len(set(wikilinks_other_books))} unique wikilinks to other books.\")"
   ]
  },
  {
   "cell_type": "markdown",
   "metadata": {},
   "source": [
    "### Most Linked-to Articles\n",
    "\n",
    "Let's take a look at which pages are most linked to by books on Wikipedia.\n",
    "\n",
    "We'll make a utility function that takes in a list and returns a sorted ordered dictionary of the counts of the items in the list. The collections module has a number of useful functions for dealing with groups of objects."
   ]
  },
  {
   "cell_type": "code",
   "execution_count": 27,
   "metadata": {},
   "outputs": [],
   "source": [
    "from collections import Counter, OrderedDict\n",
    "\n",
    "def count_items(l):\n",
    "    \"\"\"Return ordered dictionary of counts of objects in `l`\"\"\"\n",
    "    \n",
    "    # Create a counter object\n",
    "    counts = Counter(l)\n",
    "    \n",
    "    # Sort by highest count first and place in ordered dictionary\n",
    "    counts = sorted(counts.items(), key = lambda x: x[1], reverse = True)\n",
    "    counts = OrderedDict(counts)\n",
    "    \n",
    "    return counts"
   ]
  },
  {
   "cell_type": "markdown",
   "metadata": {},
   "source": [
    "\n",
    "We only want to count wikilinks from each book once, so we first find the set of links for each book, then we flatten the list of lists to a single list, and finally pass it to the count_items function."
   ]
  },
  {
   "cell_type": "code",
   "execution_count": 29,
   "metadata": {},
   "outputs": [
    {
     "data": {
      "text/plain": [
       "[('International Standard Book Number', 9),\n",
       " ('Paperback', 3),\n",
       " ('Hardcover', 2),\n",
       " ('Psychoanalysis', 2),\n",
       " ('Sigmund Freud', 2),\n",
       " ('Peter Gay', 2),\n",
       " ('Vietnam War', 2),\n",
       " ('OCLC', 2),\n",
       " ('Cambridge University Press', 1),\n",
       " ('Wilhelm Fliess', 1)]"
      ]
     },
     "execution_count": 29,
     "metadata": {},
     "output_type": "execute_result"
    }
   ],
   "source": [
    "# Find set of wikilinks for each book and convert to a flattened list\n",
    "unique_wikilinks = list(chain(*[list(set(link[i])) for i in range(len(link))]))\n",
    "\n",
    "wikilink_counts = count_items(unique_wikilinks)\n",
    "list(wikilink_counts.items())[:10]"
   ]
  },
  {
   "cell_type": "markdown",
   "metadata": {},
   "source": [
    "\n",
    "The most linked to pages are in fact not that surprising! One thing we should notice is that there are discrepancies in capitalization. We want to normalize across capitalization, so we'll lowercase all of the links and redo the counts."
   ]
  },
  {
   "cell_type": "code",
   "execution_count": 30,
   "metadata": {},
   "outputs": [
    {
     "name": "stdout",
     "output_type": "stream",
     "text": [
      "There are 362 unique wikilinks.\n"
     ]
    },
    {
     "data": {
      "text/plain": [
       "[('international standard book number', 9),\n",
       " ('paperback', 3),\n",
       " ('hardcover', 2),\n",
       " ('psychoanalysis', 2),\n",
       " ('sigmund freud', 2),\n",
       " ('peter gay', 2),\n",
       " ('vietnam war', 2),\n",
       " ('oclc', 2),\n",
       " ('cambridge university press', 1),\n",
       " ('wilhelm fliess', 1)]"
      ]
     },
     "execution_count": 30,
     "metadata": {},
     "output_type": "execute_result"
    }
   ],
   "source": [
    "wikilinks = [link.lower() for link in unique_wikilinks]\n",
    "print(f\"There are {len(set(wikilinks))} unique wikilinks.\")\n",
    "\n",
    "wikilink_counts = count_items(wikilinks)\n",
    "list(wikilink_counts.items())[:10]"
   ]
  },
  {
   "cell_type": "markdown",
   "metadata": {},
   "source": [
    "### Remove Most Popular Wikilinks\n",
    "I'm going to remove the most popular wikilinks because these are not very informative. Knowing whether a book is hardcover or paperback is not that important to the content. We also don't need the two Wikipedia: links since these do not distinguish the books based on content. I'd recommend playing around with the wikilinks that are removed because it might have a large effect on the recommendations.\n",
    "\n",
    "(This step is similar to the idea of TF-IDF (Term Frequency Inverse Document Frequency. When dealing with words in documents, the words that appear most often across documents are usually not that helpful because they don't distinguish documents. TF-IDF is a way to weight a word higher for appearing more often within an article but decrease the weighting for a word appearing more often between articles.)"
   ]
  },
  {
   "cell_type": "code",
   "execution_count": null,
   "metadata": {},
   "outputs": [],
   "source": []
  }
 ],
 "metadata": {
  "kernelspec": {
   "display_name": "Python 3",
   "language": "python",
   "name": "python3"
  },
  "language_info": {
   "codemirror_mode": {
    "name": "ipython",
    "version": 3
   },
   "file_extension": ".py",
   "mimetype": "text/x-python",
   "name": "python",
   "nbconvert_exporter": "python",
   "pygments_lexer": "ipython3",
   "version": "3.7.4"
  }
 },
 "nbformat": 4,
 "nbformat_minor": 2
}
